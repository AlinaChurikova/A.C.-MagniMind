{
 "cells": [
  {
   "cell_type": "markdown",
   "id": "59b975e3",
   "metadata": {},
   "source": [
    "In this assignment, you'll continue working with the U.S. Education Dataset from Kaggle. \n",
    "Don't forget to apply the most suitable missing-value-filling techniques from the previous checkpoint to the data."
   ]
  },
  {
   "cell_type": "code",
   "execution_count": 1,
   "id": "468ddea1",
   "metadata": {},
   "outputs": [],
   "source": [
    "import pandas as pd\n",
    "import numpy as np\n",
    "\n",
    "import matplotlib.pyplot as plt\n",
    "\n",
    "%matplotlib inline \n",
    "\n",
    "import seaborn as sns\n",
    "\n",
    "from scipy import stats"
   ]
  },
  {
   "cell_type": "code",
   "execution_count": 2,
   "id": "21b3d145",
   "metadata": {},
   "outputs": [],
   "source": [
    "states_df = pd.read_csv('states_all.csv')"
   ]
  },
  {
   "cell_type": "code",
   "execution_count": 3,
   "id": "b59bb965",
   "metadata": {},
   "outputs": [
    {
     "data": {
      "text/html": [
       "<div>\n",
       "<style scoped>\n",
       "    .dataframe tbody tr th:only-of-type {\n",
       "        vertical-align: middle;\n",
       "    }\n",
       "\n",
       "    .dataframe tbody tr th {\n",
       "        vertical-align: top;\n",
       "    }\n",
       "\n",
       "    .dataframe thead th {\n",
       "        text-align: right;\n",
       "    }\n",
       "</style>\n",
       "<table border=\"1\" class=\"dataframe\">\n",
       "  <thead>\n",
       "    <tr style=\"text-align: right;\">\n",
       "      <th></th>\n",
       "      <th>PRIMARY_KEY</th>\n",
       "      <th>STATE</th>\n",
       "      <th>YEAR</th>\n",
       "      <th>ENROLL</th>\n",
       "      <th>TOTAL_REVENUE</th>\n",
       "      <th>FEDERAL_REVENUE</th>\n",
       "      <th>STATE_REVENUE</th>\n",
       "      <th>LOCAL_REVENUE</th>\n",
       "      <th>TOTAL_EXPENDITURE</th>\n",
       "      <th>INSTRUCTION_EXPENDITURE</th>\n",
       "      <th>...</th>\n",
       "      <th>GRADES_4_G</th>\n",
       "      <th>GRADES_8_G</th>\n",
       "      <th>GRADES_12_G</th>\n",
       "      <th>GRADES_1_8_G</th>\n",
       "      <th>GRADES_9_12_G</th>\n",
       "      <th>GRADES_ALL_G</th>\n",
       "      <th>AVG_MATH_4_SCORE</th>\n",
       "      <th>AVG_MATH_8_SCORE</th>\n",
       "      <th>AVG_READING_4_SCORE</th>\n",
       "      <th>AVG_READING_8_SCORE</th>\n",
       "    </tr>\n",
       "  </thead>\n",
       "  <tbody>\n",
       "    <tr>\n",
       "      <th>0</th>\n",
       "      <td>1992_ALABAMA</td>\n",
       "      <td>ALABAMA</td>\n",
       "      <td>1992</td>\n",
       "      <td>NaN</td>\n",
       "      <td>2678885.0</td>\n",
       "      <td>304177.0</td>\n",
       "      <td>1659028.0</td>\n",
       "      <td>715680.0</td>\n",
       "      <td>2653798.0</td>\n",
       "      <td>1481703.0</td>\n",
       "      <td>...</td>\n",
       "      <td>57948.0</td>\n",
       "      <td>58025.0</td>\n",
       "      <td>41167.0</td>\n",
       "      <td>NaN</td>\n",
       "      <td>NaN</td>\n",
       "      <td>731634.0</td>\n",
       "      <td>208.0</td>\n",
       "      <td>252.0</td>\n",
       "      <td>207.0</td>\n",
       "      <td>NaN</td>\n",
       "    </tr>\n",
       "    <tr>\n",
       "      <th>1</th>\n",
       "      <td>1992_ALASKA</td>\n",
       "      <td>ALASKA</td>\n",
       "      <td>1992</td>\n",
       "      <td>NaN</td>\n",
       "      <td>1049591.0</td>\n",
       "      <td>106780.0</td>\n",
       "      <td>720711.0</td>\n",
       "      <td>222100.0</td>\n",
       "      <td>972488.0</td>\n",
       "      <td>498362.0</td>\n",
       "      <td>...</td>\n",
       "      <td>9748.0</td>\n",
       "      <td>8789.0</td>\n",
       "      <td>6714.0</td>\n",
       "      <td>NaN</td>\n",
       "      <td>NaN</td>\n",
       "      <td>122487.0</td>\n",
       "      <td>NaN</td>\n",
       "      <td>NaN</td>\n",
       "      <td>NaN</td>\n",
       "      <td>NaN</td>\n",
       "    </tr>\n",
       "    <tr>\n",
       "      <th>2</th>\n",
       "      <td>1992_ARIZONA</td>\n",
       "      <td>ARIZONA</td>\n",
       "      <td>1992</td>\n",
       "      <td>NaN</td>\n",
       "      <td>3258079.0</td>\n",
       "      <td>297888.0</td>\n",
       "      <td>1369815.0</td>\n",
       "      <td>1590376.0</td>\n",
       "      <td>3401580.0</td>\n",
       "      <td>1435908.0</td>\n",
       "      <td>...</td>\n",
       "      <td>55433.0</td>\n",
       "      <td>49081.0</td>\n",
       "      <td>37410.0</td>\n",
       "      <td>NaN</td>\n",
       "      <td>NaN</td>\n",
       "      <td>673477.0</td>\n",
       "      <td>215.0</td>\n",
       "      <td>265.0</td>\n",
       "      <td>209.0</td>\n",
       "      <td>NaN</td>\n",
       "    </tr>\n",
       "    <tr>\n",
       "      <th>3</th>\n",
       "      <td>1992_ARKANSAS</td>\n",
       "      <td>ARKANSAS</td>\n",
       "      <td>1992</td>\n",
       "      <td>NaN</td>\n",
       "      <td>1711959.0</td>\n",
       "      <td>178571.0</td>\n",
       "      <td>958785.0</td>\n",
       "      <td>574603.0</td>\n",
       "      <td>1743022.0</td>\n",
       "      <td>964323.0</td>\n",
       "      <td>...</td>\n",
       "      <td>34632.0</td>\n",
       "      <td>36011.0</td>\n",
       "      <td>27651.0</td>\n",
       "      <td>NaN</td>\n",
       "      <td>NaN</td>\n",
       "      <td>441490.0</td>\n",
       "      <td>210.0</td>\n",
       "      <td>256.0</td>\n",
       "      <td>211.0</td>\n",
       "      <td>NaN</td>\n",
       "    </tr>\n",
       "    <tr>\n",
       "      <th>4</th>\n",
       "      <td>1992_CALIFORNIA</td>\n",
       "      <td>CALIFORNIA</td>\n",
       "      <td>1992</td>\n",
       "      <td>NaN</td>\n",
       "      <td>26260025.0</td>\n",
       "      <td>2072470.0</td>\n",
       "      <td>16546514.0</td>\n",
       "      <td>7641041.0</td>\n",
       "      <td>27138832.0</td>\n",
       "      <td>14358922.0</td>\n",
       "      <td>...</td>\n",
       "      <td>418418.0</td>\n",
       "      <td>363296.0</td>\n",
       "      <td>270675.0</td>\n",
       "      <td>NaN</td>\n",
       "      <td>NaN</td>\n",
       "      <td>5254844.0</td>\n",
       "      <td>208.0</td>\n",
       "      <td>261.0</td>\n",
       "      <td>202.0</td>\n",
       "      <td>NaN</td>\n",
       "    </tr>\n",
       "  </tbody>\n",
       "</table>\n",
       "<p>5 rows × 25 columns</p>\n",
       "</div>"
      ],
      "text/plain": [
       "       PRIMARY_KEY       STATE  YEAR  ENROLL  TOTAL_REVENUE  FEDERAL_REVENUE  \\\n",
       "0     1992_ALABAMA     ALABAMA  1992     NaN      2678885.0         304177.0   \n",
       "1      1992_ALASKA      ALASKA  1992     NaN      1049591.0         106780.0   \n",
       "2     1992_ARIZONA     ARIZONA  1992     NaN      3258079.0         297888.0   \n",
       "3    1992_ARKANSAS    ARKANSAS  1992     NaN      1711959.0         178571.0   \n",
       "4  1992_CALIFORNIA  CALIFORNIA  1992     NaN     26260025.0        2072470.0   \n",
       "\n",
       "   STATE_REVENUE  LOCAL_REVENUE  TOTAL_EXPENDITURE  INSTRUCTION_EXPENDITURE  \\\n",
       "0      1659028.0       715680.0          2653798.0                1481703.0   \n",
       "1       720711.0       222100.0           972488.0                 498362.0   \n",
       "2      1369815.0      1590376.0          3401580.0                1435908.0   \n",
       "3       958785.0       574603.0          1743022.0                 964323.0   \n",
       "4     16546514.0      7641041.0         27138832.0               14358922.0   \n",
       "\n",
       "   ...  GRADES_4_G  GRADES_8_G  GRADES_12_G  GRADES_1_8_G  GRADES_9_12_G  \\\n",
       "0  ...     57948.0     58025.0      41167.0           NaN            NaN   \n",
       "1  ...      9748.0      8789.0       6714.0           NaN            NaN   \n",
       "2  ...     55433.0     49081.0      37410.0           NaN            NaN   \n",
       "3  ...     34632.0     36011.0      27651.0           NaN            NaN   \n",
       "4  ...    418418.0    363296.0     270675.0           NaN            NaN   \n",
       "\n",
       "   GRADES_ALL_G  AVG_MATH_4_SCORE  AVG_MATH_8_SCORE  AVG_READING_4_SCORE  \\\n",
       "0      731634.0             208.0             252.0                207.0   \n",
       "1      122487.0               NaN               NaN                  NaN   \n",
       "2      673477.0             215.0             265.0                209.0   \n",
       "3      441490.0             210.0             256.0                211.0   \n",
       "4     5254844.0             208.0             261.0                202.0   \n",
       "\n",
       "   AVG_READING_8_SCORE  \n",
       "0                  NaN  \n",
       "1                  NaN  \n",
       "2                  NaN  \n",
       "3                  NaN  \n",
       "4                  NaN  \n",
       "\n",
       "[5 rows x 25 columns]"
      ]
     },
     "execution_count": 3,
     "metadata": {},
     "output_type": "execute_result"
    }
   ],
   "source": [
    "states_df.head()"
   ]
  },
  {
   "cell_type": "code",
   "execution_count": 4,
   "id": "b8ef97c4",
   "metadata": {},
   "outputs": [],
   "source": [
    "filled_df = states_df.interpolate(method ='linear', limit_direction ='both')"
   ]
  },
  {
   "cell_type": "code",
   "execution_count": 6,
   "id": "14c10fa5",
   "metadata": {},
   "outputs": [
    {
     "data": {
      "text/plain": [
       "PRIMARY_KEY                     0.0\n",
       "STATE                           0.0\n",
       "YEAR                            0.0\n",
       "ENROLL                          0.0\n",
       "TOTAL_REVENUE                   0.0\n",
       "FEDERAL_REVENUE                 0.0\n",
       "STATE_REVENUE                   0.0\n",
       "LOCAL_REVENUE                   0.0\n",
       "TOTAL_EXPENDITURE               0.0\n",
       "INSTRUCTION_EXPENDITURE         0.0\n",
       "SUPPORT_SERVICES_EXPENDITURE    0.0\n",
       "OTHER_EXPENDITURE               0.0\n",
       "CAPITAL_OUTLAY_EXPENDITURE      0.0\n",
       "GRADES_PK_G                     0.0\n",
       "GRADES_KG_G                     0.0\n",
       "GRADES_4_G                      0.0\n",
       "GRADES_8_G                      0.0\n",
       "GRADES_12_G                     0.0\n",
       "GRADES_1_8_G                    0.0\n",
       "GRADES_9_12_G                   0.0\n",
       "GRADES_ALL_G                    0.0\n",
       "AVG_MATH_4_SCORE                0.0\n",
       "AVG_MATH_8_SCORE                0.0\n",
       "AVG_READING_4_SCORE             0.0\n",
       "AVG_READING_8_SCORE             0.0\n",
       "dtype: float64"
      ]
     },
     "execution_count": 6,
     "metadata": {},
     "output_type": "execute_result"
    }
   ],
   "source": [
    "filled_df.isnull().sum()*100/filled_df.isnull().count()"
   ]
  },
  {
   "cell_type": "markdown",
   "id": "6fd5f747",
   "metadata": {},
   "source": [
    "### Consider the two variables: TOTAL_REVENUE and TOTAL_EXPENDITURE. Do these variables have outlier values?"
   ]
  },
  {
   "cell_type": "code",
   "execution_count": 7,
   "id": "acc95eb6",
   "metadata": {},
   "outputs": [],
   "source": [
    " #Histogram"
   ]
  },
  {
   "cell_type": "code",
   "execution_count": 8,
   "id": "f415ccc3",
   "metadata": {},
   "outputs": [],
   "source": [
    "import matplotlib.pyplot as plt\n",
    "import numpy as np\n",
    "import pandas as pd\n",
    "import warnings\n",
    "warnings.filterwarnings(\"ignore\")\n",
    "plt.rcParams['figure.dpi'] = 100\n",
    "plt.rcParams['figure.figsize'] = (10,5)"
   ]
  },
  {
   "cell_type": "code",
   "execution_count": 9,
   "id": "85c0d0fa",
   "metadata": {},
   "outputs": [
    {
     "data": {
      "image/png": "[encoded data removed]",
      "text/plain": [
       "<Figure size 1000x500 with 1 Axes>"
      ]
     },
     "metadata": {
      "needs_background": "light"
     },
     "output_type": "display_data"
    }
   ],
   "source": [
    "plt.hist(filled_df['TOTAL_REVENUE'])\n",
    "plt.title(\"Revenue\")\n",
    "plt.show()"
   ]
  },
  {
   "cell_type": "code",
   "execution_count": 11,
   "id": "406051b0",
   "metadata": {},
   "outputs": [
    {
     "data": {
      "image/png": "[encoded data removed]",
      "text/plain": [
       "<Figure size 1000x500 with 1 Axes>"
      ]
     },
     "metadata": {
      "needs_background": "light"
     },
     "output_type": "display_data"
    }
   ],
   "source": [
    "plt.hist(filled_df['TOTAL_EXPENDITURE'])\n",
    "plt.title(\"Expenditure\")\n",
    "plt.show()"
   ]
  },
  {
   "cell_type": "code",
   "execution_count": 12,
   "id": "a225297c",
   "metadata": {},
   "outputs": [],
   "source": [
    "#Boxplot"
   ]
  },
  {
   "cell_type": "code",
   "execution_count": 13,
   "id": "2d963812",
   "metadata": {},
   "outputs": [
    {
     "data": {
      "image/png": "[encoded data removed]",
      "text/plain": [
       "<Figure size 1000x500 with 1 Axes>"
      ]
     },
     "metadata": {
      "needs_background": "light"
     },
     "output_type": "display_data"
    }
   ],
   "source": [
    "plt.boxplot(filled_df['TOTAL_REVENUE'])\n",
    "plt.title(\"Revenue\")\n",
    "plt.show()"
   ]
  },
  {
   "cell_type": "code",
   "execution_count": 14,
   "id": "dfcd2ec0",
   "metadata": {},
   "outputs": [
    {
     "data": {
      "image/png": "[encoded data removed]",
      "text/plain": [
       "<Figure size 1000x500 with 1 Axes>"
      ]
     },
     "metadata": {
      "needs_background": "light"
     },
     "output_type": "display_data"
    }
   ],
   "source": [
    "plt.boxplot(filled_df['TOTAL_EXPENDITURE'])\n",
    "plt.title(\"Expenditure\")\n",
    "plt.show()"
   ]
  },
  {
   "cell_type": "code",
   "execution_count": 15,
   "id": "ace860cc",
   "metadata": {},
   "outputs": [],
   "source": [
    "#Appling Statistical Tools in Detecting the Outliers"
   ]
  },
  {
   "cell_type": "code",
   "execution_count": 18,
   "id": "a4a0dfc6",
   "metadata": {},
   "outputs": [],
   "source": [
    "from scipy.stats import zscore"
   ]
  },
  {
   "cell_type": "code",
   "execution_count": 21,
   "id": "f8114d04",
   "metadata": {},
   "outputs": [],
   "source": [
    "zscores = zscore(filled_df[\"TOTAL_REVENUE\"])"
   ]
  },
  {
   "cell_type": "code",
   "execution_count": 22,
   "id": "d2f12b33",
   "metadata": {},
   "outputs": [
    {
     "name": "stdout",
     "output_type": "stream",
     "text": [
      "The score threshold is: 1\n",
      "The indices of the outliers:\n",
      "(array([   4,   32,   55,   83,   94,  106,  134,  145,  157,  185,  196,\n",
      "        208,  236,  247,  259,  287,  298,  310,  338,  349,  361,  389,\n",
      "        400,  412,  440,  451,  463,  468,  472,  491,  502,  514,  519,\n",
      "        523,  532,  540,  542,  548,  553,  565,  570,  574,  583,  591,\n",
      "        593,  596,  599,  604,  616,  621,  625,  634,  642,  644,  647,\n",
      "        650,  655,  667,  672,  676,  685,  693,  695,  698,  701,  706,\n",
      "        718,  723,  727,  736,  744,  746,  749,  752,  757,  769,  774,\n",
      "        778,  787,  795,  797,  800,  803,  808,  820,  825,  826,  829,\n",
      "        838,  846,  848,  851,  854,  859,  871,  876,  877,  880,  889,\n",
      "        897,  899,  902,  905,  910,  922,  927,  931,  940,  948,  950,\n",
      "        953,  956,  961,  973,  978,  979,  982,  991,  999, 1001, 1004,\n",
      "       1007, 1012, 1024, 1029, 1033, 1042, 1050, 1052, 1055, 1058, 1063,\n",
      "       1075, 1080, 1084, 1093, 1101, 1103, 1106, 1109, 1114, 1126, 1131,\n",
      "       1135, 1144, 1152, 1154, 1157, 1160, 1165, 1177, 1182, 1183, 1186,\n",
      "       1195, 1203, 1205, 1208, 1211, 1216, 1228, 1233, 1234, 1237, 1246,\n",
      "       1254, 1256, 1259, 1262, 1267]),)\n",
      "Number of outliers is: 170\n",
      "--------------------------------------------------------------------------------\n",
      "The score threshold is: 2\n",
      "The indices of the outliers:\n",
      "(array([ 157,  208,  259,  310,  361,  389,  412,  440,  451,  463,  491,\n",
      "        502,  514,  542,  553,  565,  593,  604,  616,  644,  655,  667,\n",
      "        695,  706,  718,  746,  757,  769,  774,  797,  808,  820,  825,\n",
      "        848,  859,  871,  899,  910,  922,  950,  961,  973,  982, 1001,\n",
      "       1007, 1012, 1024, 1033, 1052, 1063, 1075, 1084, 1103, 1109, 1114,\n",
      "       1126, 1135, 1154, 1160, 1165, 1177, 1186, 1203, 1205, 1211, 1216,\n",
      "       1228, 1237, 1254, 1256, 1262, 1267]),)\n",
      "Number of outliers is: 72\n",
      "--------------------------------------------------------------------------------\n",
      "The score threshold is: 3\n",
      "The indices of the outliers:\n",
      "(array([ 310,  361,  412,  463,  514,  565,  616,  644,  667,  695,  718,\n",
      "        746,  757,  769,  797,  808,  820,  848,  859,  871,  899,  910,\n",
      "        922,  950,  961,  973, 1001, 1012, 1024, 1052, 1063, 1075, 1103,\n",
      "       1114, 1126, 1154, 1165, 1177, 1205, 1216, 1228, 1256, 1267]),)\n",
      "Number of outliers is: 43\n",
      "--------------------------------------------------------------------------------\n",
      "The score threshold is: 4\n",
      "The indices of the outliers:\n",
      "(array([ 463,  514,  565,  616,  667,  718,  769,  797,  820,  848,  871,\n",
      "        899,  922,  950,  961,  973, 1001, 1012, 1024, 1052, 1063, 1075,\n",
      "       1103, 1114, 1126, 1154, 1165, 1177, 1205, 1216, 1228, 1256, 1267]),)\n",
      "Number of outliers is: 33\n",
      "--------------------------------------------------------------------------------\n"
     ]
    }
   ],
   "source": [
    "for i in range(1,5):\n",
    "    print(\"The score threshold is: {}\".format(i))\n",
    "    print(\"The indices of the outliers:\")\n",
    "    print(np.where(zscores > i))\n",
    "    print(\"Number of outliers is: {}\".format(len((np.where(zscores > i)[0]))))\n",
    "    print('--'*40)"
   ]
  },
  {
   "cell_type": "code",
   "execution_count": 23,
   "id": "5db75599",
   "metadata": {},
   "outputs": [],
   "source": [
    "zscores2 = zscore(filled_df[\"TOTAL_EXPENDITURE\"])"
   ]
  },
  {
   "cell_type": "code",
   "execution_count": 24,
   "id": "be44427e",
   "metadata": {},
   "outputs": [
    {
     "name": "stdout",
     "output_type": "stream",
     "text": [
      "The score threshold is: 1\n",
      "The indices of the outliers:\n",
      "(array([   4,   32,   55,   83,   94,  106,  134,  145,  157,  185,  196,\n",
      "        208,  236,  247,  259,  287,  298,  310,  338,  349,  361,  389,\n",
      "        400,  412,  440,  451,  463,  468,  472,  491,  502,  514,  519,\n",
      "        523,  532,  540,  542,  548,  553,  565,  570,  574,  583,  591,\n",
      "        593,  596,  599,  604,  616,  621,  625,  634,  642,  644,  647,\n",
      "        650,  655,  667,  672,  676,  685,  693,  695,  698,  701,  706,\n",
      "        718,  723,  727,  736,  744,  746,  749,  752,  757,  769,  774,\n",
      "        778,  787,  795,  797,  800,  803,  808,  820,  825,  826,  829,\n",
      "        838,  846,  848,  851,  854,  859,  871,  876,  877,  880,  889,\n",
      "        897,  899,  902,  905,  910,  922,  927,  931,  940,  948,  950,\n",
      "        953,  956,  961,  973,  978,  979,  982,  991,  999, 1001, 1004,\n",
      "       1007, 1012, 1024, 1029, 1033, 1042, 1050, 1052, 1055, 1058, 1063,\n",
      "       1075, 1080, 1084, 1093, 1101, 1103, 1106, 1109, 1114, 1126, 1131,\n",
      "       1135, 1144, 1152, 1154, 1157, 1160, 1165, 1177, 1182, 1183, 1186,\n",
      "       1195, 1203, 1205, 1208, 1211, 1216, 1228, 1233, 1234, 1237, 1246,\n",
      "       1254, 1256, 1259, 1262, 1267]),)\n",
      "Number of outliers is: 164\n",
      "--------------------------------------------------------------------------------\n",
      "The score threshold is: 2\n",
      "The indices of the outliers:\n",
      "(array([ 157,  208,  259,  310,  361,  389,  412,  440,  451,  463,  491,\n",
      "        502,  514,  542,  553,  565,  593,  604,  616,  644,  655,  667,\n",
      "        695,  706,  718,  746,  757,  769,  774,  797,  808,  820,  825,\n",
      "        848,  859,  871,  899,  910,  922,  950,  961,  973,  982, 1001,\n",
      "       1007, 1012, 1024, 1033, 1052, 1063, 1075, 1084, 1103, 1109, 1114,\n",
      "       1126, 1135, 1154, 1160, 1165, 1177, 1186, 1203, 1205, 1211, 1216,\n",
      "       1228, 1237, 1254, 1256, 1262, 1267]),)\n",
      "Number of outliers is: 68\n",
      "--------------------------------------------------------------------------------\n",
      "The score threshold is: 3\n",
      "The indices of the outliers:\n",
      "(array([ 310,  361,  412,  463,  514,  565,  616,  644,  667,  695,  718,\n",
      "        746,  757,  769,  797,  808,  820,  848,  859,  871,  899,  910,\n",
      "        922,  950,  961,  973, 1001, 1012, 1024, 1052, 1063, 1075, 1103,\n",
      "       1114, 1126, 1154, 1165, 1177, 1205, 1216, 1228, 1256, 1267]),)\n",
      "Number of outliers is: 44\n",
      "--------------------------------------------------------------------------------\n",
      "The score threshold is: 4\n",
      "The indices of the outliers:\n",
      "(array([ 463,  514,  565,  616,  667,  718,  769,  797,  820,  848,  871,\n",
      "        899,  922,  950,  961,  973, 1001, 1012, 1024, 1052, 1063, 1075,\n",
      "       1103, 1114, 1126, 1154, 1165, 1177, 1205, 1216, 1228, 1256, 1267]),)\n",
      "Number of outliers is: 33\n",
      "--------------------------------------------------------------------------------\n"
     ]
    }
   ],
   "source": [
    "for i in range(1,5):\n",
    "    print(\"The score threshold is: {}\".format(i))\n",
    "    print(\"The indices of the outliers:\")\n",
    "    print(np.where(zscores > i))\n",
    "    print(\"Number of outliers is: {}\".format(len((np.where(zscores2 > i)[0]))))\n",
    "    print('--'*40)"
   ]
  },
  {
   "cell_type": "markdown",
   "id": "a0cd7203",
   "metadata": {},
   "source": [
    "### If you detect outliers in the TOTAL_REVENUE and TOTAL_EXPENDITURE variables, apply the techniques you learned in this checkpoint to eliminate them and validate that there are no outlier values after you handled them."
   ]
  },
  {
   "cell_type": "code",
   "execution_count": 33,
   "id": "6de260bb",
   "metadata": {},
   "outputs": [
    {
     "data": {
      "image/png": "[encoded data removed]",
      "text/plain": [
       "<Figure size 1000x500 with 1 Axes>"
      ]
     },
     "metadata": {
      "needs_background": "light"
     },
     "output_type": "display_data"
    }
   ],
   "source": [
    "plt.boxplot(filled_df['TOTAL_REVENUE'].dropna())\n",
    "plt.title(\"Revenue\")\n",
    "plt.show()"
   ]
  },
  {
   "cell_type": "code",
   "execution_count": 34,
   "id": "2972d044",
   "metadata": {},
   "outputs": [],
   "source": [
    "from scipy.stats.mstats import winsorize"
   ]
  },
  {
   "cell_type": "code",
   "execution_count": 71,
   "id": "73df0b96",
   "metadata": {},
   "outputs": [
    {
     "data": {
      "text/plain": [
       "masked_array(data=[2678885., 1800909., 3258079., ..., 2044669., 2044669.,\n",
       "                   2044669.],\n",
       "             mask=False,\n",
       "       fill_value=1e+20)"
      ]
     },
     "execution_count": 71,
     "metadata": {},
     "output_type": "execute_result"
    }
   ],
   "source": [
    "winsorizin_revenue = winsorize(np.array(filled_df['TOTAL_REVENUE'].dropna()), (0.15, 0.15))\n",
    "winsorizin_revenue"
   ]
  },
  {
   "cell_type": "code",
   "execution_count": 73,
   "id": "1afc58d9",
   "metadata": {},
   "outputs": [
    {
     "data": {
      "image/png": "[encoded data removed]",
      "text/plain": [
       "<Figure size 1000x500 with 1 Axes>"
      ]
     },
     "metadata": {
      "needs_background": "light"
     },
     "output_type": "display_data"
    }
   ],
   "source": [
    "plt.boxplot(winsorizin_revenue)\n",
    "plt.title(\"Revenue After Winsorizing\")\n",
    "plt.show()"
   ]
  },
  {
   "cell_type": "code",
   "execution_count": 74,
   "id": "51220dfb",
   "metadata": {},
   "outputs": [
    {
     "data": {
      "image/png": "[encoded data removed]",
      "text/plain": [
       "<Figure size 1000x500 with 1 Axes>"
      ]
     },
     "metadata": {
      "needs_background": "light"
     },
     "output_type": "display_data"
    }
   ],
   "source": [
    "plt.boxplot(filled_df['TOTAL_EXPENDITURE'].dropna())\n",
    "plt.title(\"Expenditure\")\n",
    "plt.show()"
   ]
  },
  {
   "cell_type": "code",
   "execution_count": 75,
   "id": "3f2a5d43",
   "metadata": {},
   "outputs": [
    {
     "data": {
      "text/plain": [
       "masked_array(data=[2653798., 1809138., 3401580., ..., 2034229., 2034229.,\n",
       "                   2034229.],\n",
       "             mask=False,\n",
       "       fill_value=1e+20)"
      ]
     },
     "execution_count": 75,
     "metadata": {},
     "output_type": "execute_result"
    }
   ],
   "source": [
    "winsorizing_expenditure = winsorize(np.array(filled_df['TOTAL_EXPENDITURE'].dropna()), (0.15, 0.15))\n",
    "winsorizing_expenditure"
   ]
  },
  {
   "cell_type": "code",
   "execution_count": 76,
   "id": "2a0a41f4",
   "metadata": {},
   "outputs": [
    {
     "data": {
      "image/png": "[encoded data removed]",
      "text/plain": [
       "<Figure size 1000x500 with 1 Axes>"
      ]
     },
     "metadata": {
      "needs_background": "light"
     },
     "output_type": "display_data"
    }
   ],
   "source": [
    "plt.boxplot(winsorizing_expenditure)\n",
    "plt.title(\"Expenditure After Winsorizing\")\n",
    "plt.show()"
   ]
  },
  {
   "cell_type": "markdown",
   "id": "27bafeb7",
   "metadata": {},
   "source": [
    "### Create another variable by subtracting the original TOTAL_EXPENDITURE from TOTAL_REVENUE (before you eliminated the outliers). You can think of it as a kind of budget deficit in education. Do you find any outlier values in this new variable? If so, eliminate them using the technique that think is most suitable."
   ]
  },
  {
   "cell_type": "code",
   "execution_count": 48,
   "id": "8f04421a",
   "metadata": {},
   "outputs": [],
   "source": [
    "filled_df['PROFIT'] = filled_df['TOTAL_REVENUE'] - filled_df['TOTAL_EXPENDITURE']"
   ]
  },
  {
   "cell_type": "code",
   "execution_count": 50,
   "id": "71a7de7a",
   "metadata": {},
   "outputs": [
    {
     "data": {
      "text/html": [
       "<div>\n",
       "<style scoped>\n",
       "    .dataframe tbody tr th:only-of-type {\n",
       "        vertical-align: middle;\n",
       "    }\n",
       "\n",
       "    .dataframe tbody tr th {\n",
       "        vertical-align: top;\n",
       "    }\n",
       "\n",
       "    .dataframe thead th {\n",
       "        text-align: right;\n",
       "    }\n",
       "</style>\n",
       "<table border=\"1\" class=\"dataframe\">\n",
       "  <thead>\n",
       "    <tr style=\"text-align: right;\">\n",
       "      <th></th>\n",
       "      <th>PRIMARY_KEY</th>\n",
       "      <th>STATE</th>\n",
       "      <th>YEAR</th>\n",
       "      <th>ENROLL</th>\n",
       "      <th>TOTAL_REVENUE</th>\n",
       "      <th>FEDERAL_REVENUE</th>\n",
       "      <th>STATE_REVENUE</th>\n",
       "      <th>LOCAL_REVENUE</th>\n",
       "      <th>TOTAL_EXPENDITURE</th>\n",
       "      <th>INSTRUCTION_EXPENDITURE</th>\n",
       "      <th>...</th>\n",
       "      <th>GRADES_8_G</th>\n",
       "      <th>GRADES_12_G</th>\n",
       "      <th>GRADES_1_8_G</th>\n",
       "      <th>GRADES_9_12_G</th>\n",
       "      <th>GRADES_ALL_G</th>\n",
       "      <th>AVG_MATH_4_SCORE</th>\n",
       "      <th>AVG_MATH_8_SCORE</th>\n",
       "      <th>AVG_READING_4_SCORE</th>\n",
       "      <th>AVG_READING_8_SCORE</th>\n",
       "      <th>PROFIT</th>\n",
       "    </tr>\n",
       "  </thead>\n",
       "  <tbody>\n",
       "    <tr>\n",
       "      <th>0</th>\n",
       "      <td>1992_ALABAMA</td>\n",
       "      <td>ALABAMA</td>\n",
       "      <td>1992</td>\n",
       "      <td>727716.0</td>\n",
       "      <td>2678885.0</td>\n",
       "      <td>304177.0</td>\n",
       "      <td>1659028.0</td>\n",
       "      <td>715680.0</td>\n",
       "      <td>2653798.0</td>\n",
       "      <td>1481703.0</td>\n",
       "      <td>...</td>\n",
       "      <td>58025.0</td>\n",
       "      <td>41167.0</td>\n",
       "      <td>472847.0</td>\n",
       "      <td>208148.0</td>\n",
       "      <td>731634.0</td>\n",
       "      <td>208.0</td>\n",
       "      <td>252.0</td>\n",
       "      <td>207.0</td>\n",
       "      <td>255.0</td>\n",
       "      <td>25087.0</td>\n",
       "    </tr>\n",
       "    <tr>\n",
       "      <th>1</th>\n",
       "      <td>1992_ALASKA</td>\n",
       "      <td>ALASKA</td>\n",
       "      <td>1992</td>\n",
       "      <td>727716.0</td>\n",
       "      <td>1049591.0</td>\n",
       "      <td>106780.0</td>\n",
       "      <td>720711.0</td>\n",
       "      <td>222100.0</td>\n",
       "      <td>972488.0</td>\n",
       "      <td>498362.0</td>\n",
       "      <td>...</td>\n",
       "      <td>8789.0</td>\n",
       "      <td>6714.0</td>\n",
       "      <td>472847.0</td>\n",
       "      <td>208148.0</td>\n",
       "      <td>122487.0</td>\n",
       "      <td>211.5</td>\n",
       "      <td>258.5</td>\n",
       "      <td>208.0</td>\n",
       "      <td>255.0</td>\n",
       "      <td>77103.0</td>\n",
       "    </tr>\n",
       "    <tr>\n",
       "      <th>2</th>\n",
       "      <td>1992_ARIZONA</td>\n",
       "      <td>ARIZONA</td>\n",
       "      <td>1992</td>\n",
       "      <td>727716.0</td>\n",
       "      <td>3258079.0</td>\n",
       "      <td>297888.0</td>\n",
       "      <td>1369815.0</td>\n",
       "      <td>1590376.0</td>\n",
       "      <td>3401580.0</td>\n",
       "      <td>1435908.0</td>\n",
       "      <td>...</td>\n",
       "      <td>49081.0</td>\n",
       "      <td>37410.0</td>\n",
       "      <td>472847.0</td>\n",
       "      <td>208148.0</td>\n",
       "      <td>673477.0</td>\n",
       "      <td>215.0</td>\n",
       "      <td>265.0</td>\n",
       "      <td>209.0</td>\n",
       "      <td>255.0</td>\n",
       "      <td>-143501.0</td>\n",
       "    </tr>\n",
       "    <tr>\n",
       "      <th>3</th>\n",
       "      <td>1992_ARKANSAS</td>\n",
       "      <td>ARKANSAS</td>\n",
       "      <td>1992</td>\n",
       "      <td>727716.0</td>\n",
       "      <td>1711959.0</td>\n",
       "      <td>178571.0</td>\n",
       "      <td>958785.0</td>\n",
       "      <td>574603.0</td>\n",
       "      <td>1743022.0</td>\n",
       "      <td>964323.0</td>\n",
       "      <td>...</td>\n",
       "      <td>36011.0</td>\n",
       "      <td>27651.0</td>\n",
       "      <td>472847.0</td>\n",
       "      <td>208148.0</td>\n",
       "      <td>441490.0</td>\n",
       "      <td>210.0</td>\n",
       "      <td>256.0</td>\n",
       "      <td>211.0</td>\n",
       "      <td>255.0</td>\n",
       "      <td>-31063.0</td>\n",
       "    </tr>\n",
       "    <tr>\n",
       "      <th>4</th>\n",
       "      <td>1992_CALIFORNIA</td>\n",
       "      <td>CALIFORNIA</td>\n",
       "      <td>1992</td>\n",
       "      <td>727716.0</td>\n",
       "      <td>26260025.0</td>\n",
       "      <td>2072470.0</td>\n",
       "      <td>16546514.0</td>\n",
       "      <td>7641041.0</td>\n",
       "      <td>27138832.0</td>\n",
       "      <td>14358922.0</td>\n",
       "      <td>...</td>\n",
       "      <td>363296.0</td>\n",
       "      <td>270675.0</td>\n",
       "      <td>472847.0</td>\n",
       "      <td>208148.0</td>\n",
       "      <td>5254844.0</td>\n",
       "      <td>208.0</td>\n",
       "      <td>261.0</td>\n",
       "      <td>202.0</td>\n",
       "      <td>255.0</td>\n",
       "      <td>-878807.0</td>\n",
       "    </tr>\n",
       "  </tbody>\n",
       "</table>\n",
       "<p>5 rows × 26 columns</p>\n",
       "</div>"
      ],
      "text/plain": [
       "       PRIMARY_KEY       STATE  YEAR    ENROLL  TOTAL_REVENUE  \\\n",
       "0     1992_ALABAMA     ALABAMA  1992  727716.0      2678885.0   \n",
       "1      1992_ALASKA      ALASKA  1992  727716.0      1049591.0   \n",
       "2     1992_ARIZONA     ARIZONA  1992  727716.0      3258079.0   \n",
       "3    1992_ARKANSAS    ARKANSAS  1992  727716.0      1711959.0   \n",
       "4  1992_CALIFORNIA  CALIFORNIA  1992  727716.0     26260025.0   \n",
       "\n",
       "   FEDERAL_REVENUE  STATE_REVENUE  LOCAL_REVENUE  TOTAL_EXPENDITURE  \\\n",
       "0         304177.0      1659028.0       715680.0          2653798.0   \n",
       "1         106780.0       720711.0       222100.0           972488.0   \n",
       "2         297888.0      1369815.0      1590376.0          3401580.0   \n",
       "3         178571.0       958785.0       574603.0          1743022.0   \n",
       "4        2072470.0     16546514.0      7641041.0         27138832.0   \n",
       "\n",
       "   INSTRUCTION_EXPENDITURE  ...  GRADES_8_G  GRADES_12_G  GRADES_1_8_G  \\\n",
       "0                1481703.0  ...     58025.0      41167.0      472847.0   \n",
       "1                 498362.0  ...      8789.0       6714.0      472847.0   \n",
       "2                1435908.0  ...     49081.0      37410.0      472847.0   \n",
       "3                 964323.0  ...     36011.0      27651.0      472847.0   \n",
       "4               14358922.0  ...    363296.0     270675.0      472847.0   \n",
       "\n",
       "   GRADES_9_12_G  GRADES_ALL_G  AVG_MATH_4_SCORE  AVG_MATH_8_SCORE  \\\n",
       "0       208148.0      731634.0             208.0             252.0   \n",
       "1       208148.0      122487.0             211.5             258.5   \n",
       "2       208148.0      673477.0             215.0             265.0   \n",
       "3       208148.0      441490.0             210.0             256.0   \n",
       "4       208148.0     5254844.0             208.0             261.0   \n",
       "\n",
       "   AVG_READING_4_SCORE  AVG_READING_8_SCORE    PROFIT  \n",
       "0                207.0                255.0   25087.0  \n",
       "1                208.0                255.0   77103.0  \n",
       "2                209.0                255.0 -143501.0  \n",
       "3                211.0                255.0  -31063.0  \n",
       "4                202.0                255.0 -878807.0  \n",
       "\n",
       "[5 rows x 26 columns]"
      ]
     },
     "execution_count": 50,
     "metadata": {},
     "output_type": "execute_result"
    }
   ],
   "source": [
    "filled_df.head()"
   ]
  },
  {
   "cell_type": "code",
   "execution_count": 51,
   "id": "303fe6ce",
   "metadata": {},
   "outputs": [
    {
     "data": {
      "image/png": "[encoded data removed]",
      "text/plain": [
       "<Figure size 1000x500 with 1 Axes>"
      ]
     },
     "metadata": {
      "needs_background": "light"
     },
     "output_type": "display_data"
    }
   ],
   "source": [
    "plt.boxplot(filled_df['PROFIT'])\n",
    "plt.title(\"Profit\")\n",
    "plt.show()"
   ]
  },
  {
   "cell_type": "code",
   "execution_count": 52,
   "id": "ba51c532",
   "metadata": {},
   "outputs": [
    {
     "data": {
      "image/png": "[encoded data removed]",
      "text/plain": [
       "<Figure size 1000x500 with 1 Axes>"
      ]
     },
     "metadata": {
      "needs_background": "light"
     },
     "output_type": "display_data"
    }
   ],
   "source": [
    "plt.hist(filled_df['PROFIT'])\n",
    "plt.title(\"Profit\")\n",
    "plt.show()"
   ]
  },
  {
   "cell_type": "code",
   "execution_count": 62,
   "id": "aab940cd",
   "metadata": {},
   "outputs": [],
   "source": [
    "zscore3 = zscore(filled_df[\"PROFIT\"])"
   ]
  },
  {
   "cell_type": "code",
   "execution_count": 64,
   "id": "8ae25076",
   "metadata": {},
   "outputs": [
    {
     "name": "stdout",
     "output_type": "stream",
     "text": [
      "The score threshold is: 1\n",
      "The indices of the outliers:\n",
      "(array([  72,   86,   94,  106,  115,  145,  174,  259,  269,  310,  315,\n",
      "        341,  361,  366,  392,  412,  463,  521,  572,  669,  674,  677,\n",
      "        720,  725,  732,  735,  776,  778,  787,  800,  830,  851,  881,\n",
      "        900,  932,  951,  953,  973,  979,  982,  983,  991,  999, 1002,\n",
      "       1004, 1033, 1034, 1040, 1042, 1050, 1068, 1073, 1077, 1084, 1085,\n",
      "       1091, 1093, 1106, 1128, 1136, 1144, 1152, 1157, 1160, 1179, 1187,\n",
      "       1193, 1195, 1203, 1208, 1226, 1228, 1230, 1238, 1245, 1246]),)\n",
      "Number of outliers is: 76\n",
      "--------------------------------------------------------------------------------\n",
      "The score threshold is: 2\n",
      "The indices of the outliers:\n",
      "(array([  94,  259,  310,  366,  463,  881,  932,  951,  973,  982,  983,\n",
      "       1034, 1050, 1085, 1136, 1144, 1157, 1187, 1195, 1208, 1228, 1238,\n",
      "       1246]),)\n",
      "Number of outliers is: 23\n",
      "--------------------------------------------------------------------------------\n",
      "The score threshold is: 3\n",
      "The indices of the outliers:\n",
      "(array([  94,  259,  881,  932,  951, 1157, 1208, 1228]),)\n",
      "Number of outliers is: 8\n",
      "--------------------------------------------------------------------------------\n",
      "The score threshold is: 4\n",
      "The indices of the outliers:\n",
      "(array([ 932,  951, 1228]),)\n",
      "Number of outliers is: 3\n",
      "--------------------------------------------------------------------------------\n"
     ]
    }
   ],
   "source": [
    "for i in range(1,5):\n",
    "    print(\"The score threshold is: {}\".format(i))\n",
    "    print(\"The indices of the outliers:\")\n",
    "    print(np.where(zscores > i))\n",
    "    print(\"Number of outliers is: {}\".format(len((np.where(zscores3 > i)[0]))))\n",
    "    print('--'*40)"
   ]
  },
  {
   "cell_type": "code",
   "execution_count": 65,
   "id": "62308b13",
   "metadata": {},
   "outputs": [],
   "source": [
    "#Transforming the Outliers"
   ]
  },
  {
   "cell_type": "code",
   "execution_count": 68,
   "id": "be5192c9",
   "metadata": {},
   "outputs": [
    {
     "data": {
      "image/png": "[encoded data removed]",
      "text/plain": [
       "<Figure size 1500x500 with 2 Axes>"
      ]
     },
     "metadata": {
      "needs_background": "light"
     },
     "output_type": "display_data"
    }
   ],
   "source": [
    "plt.figure(figsize = (15,5))\n",
    "plt.subplot(1,2,1)\n",
    "plt.hist(filled_df['PROFIT'].dropna())\n",
    "plt.title(\"PROFIT\")\n",
    "plt.subplot(1,2,2)\n",
    "plt.hist(np.log(filled_df['PROFIT'].dropna()))\n",
    "plt.title(\"PROFIT after Log Transformation\")\n",
    "plt.show()"
   ]
  },
  {
   "cell_type": "markdown",
   "id": "d178184a",
   "metadata": {},
   "source": [
    "### Now create another variable by subtracting the TOTAL_EXPENDITURE from TOTAL_REVENUE. This time, use the outlier eliminated versions of TOTAL_EXPENDITURE from TOTAL_REVENUE. In this newly created variable, can you find any outliers? If so, eliminate them."
   ]
  },
  {
   "cell_type": "code",
   "execution_count": 80,
   "id": "2cafb4a8",
   "metadata": {},
   "outputs": [],
   "source": [
    "filled_df['PROFIT2'] = winsorizin_revenue - winsorizing_expenditure"
   ]
  },
  {
   "cell_type": "code",
   "execution_count": 81,
   "id": "218ed90b",
   "metadata": {},
   "outputs": [
    {
     "data": {
      "text/plain": [
       "0        25087.0\n",
       "1        -8229.0\n",
       "2      -143501.0\n",
       "3        -8229.0\n",
       "4       205271.0\n",
       "          ...   \n",
       "1710     10440.0\n",
       "1711     10440.0\n",
       "1712     10440.0\n",
       "1713     10440.0\n",
       "1714     10440.0\n",
       "Name: PROFIT2, Length: 1715, dtype: float64"
      ]
     },
     "execution_count": 81,
     "metadata": {},
     "output_type": "execute_result"
    }
   ],
   "source": [
    "filled_df['PROFIT2']"
   ]
  },
  {
   "cell_type": "code",
   "execution_count": 82,
   "id": "3ba37256",
   "metadata": {},
   "outputs": [
    {
     "data": {
      "image/png": "[encoded data removed]",
      "text/plain": [
       "<Figure size 1000x500 with 1 Axes>"
      ]
     },
     "metadata": {
      "needs_background": "light"
     },
     "output_type": "display_data"
    }
   ],
   "source": [
    "plt.boxplot(filled_df['PROFIT2'])\n",
    "plt.title(\"Profit\")\n",
    "plt.show()"
   ]
  },
  {
   "cell_type": "code",
   "execution_count": 94,
   "id": "88a7a718",
   "metadata": {},
   "outputs": [
    {
     "data": {
      "text/plain": [
       "0        25087.0\n",
       "1        -8229.0\n",
       "2      -143501.0\n",
       "3        -8229.0\n",
       "4       205271.0\n",
       "          ...   \n",
       "1710     10440.0\n",
       "1711     10440.0\n",
       "1712     10440.0\n",
       "1713     10440.0\n",
       "1714     10440.0\n",
       "Name: winsorizing_prifit, Length: 1715, dtype: float64"
      ]
     },
     "execution_count": 94,
     "metadata": {},
     "output_type": "execute_result"
    }
   ],
   "source": [
    "filled_df['winsorizing_prifit'] = winsorize(np.array(filled_df['PROFIT2'].dropna()), (0.12, 0.10))\n",
    "filled_df['winsorizing_prifit']"
   ]
  },
  {
   "cell_type": "code",
   "execution_count": 95,
   "id": "fae67a01",
   "metadata": {},
   "outputs": [
    {
     "data": {
      "image/png": "[encoded data removed]",
      "text/plain": [
       "<Figure size 1000x500 with 1 Axes>"
      ]
     },
     "metadata": {
      "needs_background": "light"
     },
     "output_type": "display_data"
    }
   ],
   "source": [
    "plt.boxplot(filled_df['winsorizing_prifit'])\n",
    "plt.title(\"Profit of Movies After Winsorizing\")\n",
    "plt.show()"
   ]
  },
  {
   "cell_type": "markdown",
   "id": "a404312a",
   "metadata": {},
   "source": [
    "### Compare some basic descriptive statistics of the budget variables you end up with in the third and the fourth questions. Do you see any differences?"
   ]
  },
  {
   "cell_type": "code",
   "execution_count": 97,
   "id": "4d75af51",
   "metadata": {},
   "outputs": [
    {
     "data": {
      "text/plain": [
       "count      1715.000000\n",
       "mean      26092.703790\n",
       "std      110684.338893\n",
       "min     -143501.000000\n",
       "25%       -8229.000000\n",
       "50%       10440.000000\n",
       "75%       83368.500000\n",
       "max      205271.000000\n",
       "Name: winsorizing_prifit, dtype: float64"
      ]
     },
     "execution_count": 97,
     "metadata": {},
     "output_type": "execute_result"
    }
   ],
   "source": [
    "filled_df['winsorizing_prifit'].describe()"
   ]
  },
  {
   "cell_type": "code",
   "execution_count": 98,
   "id": "e3bdefc5",
   "metadata": {},
   "outputs": [
    {
     "data": {
      "text/plain": [
       "count    1.715000e+03\n",
       "mean    -7.478590e+04\n",
       "std      4.976837e+05\n",
       "min     -5.487742e+06\n",
       "25%     -1.009060e+05\n",
       "50%      1.044000e+04\n",
       "75%      1.807800e+04\n",
       "max      3.897129e+06\n",
       "Name: PROFIT, dtype: float64"
      ]
     },
     "execution_count": 98,
     "metadata": {},
     "output_type": "execute_result"
    }
   ],
   "source": [
    "filled_df['PROFIT'].describe()"
   ]
  },
  {
   "cell_type": "markdown",
   "id": "943dc519",
   "metadata": {},
   "source": [
    "### If your variable of interest is the budget deficit variable, which method do you think is the most appropriate in dealing with the outliers in this variable: the method in the third question or the one in the fourth question?"
   ]
  },
  {
   "cell_type": "markdown",
   "id": "21c77985",
   "metadata": {},
   "source": [
    "By my opinion, the third method will be more accurate when we eliminated outliers only from the final result. \n",
    "\n",
    "In the fourth answer, we eliminated outliers three times, in the beginning from each variable we are working with, and then in the final result. "
   ]
  }
 ],
 "metadata": {
  "kernelspec": {
   "display_name": "Python 3 (ipykernel)",
   "language": "python",
   "name": "python3"
  },
  "language_info": {
   "codemirror_mode": {
    "name": "ipython",
    "version": 3
   },
   "file_extension": ".py",
   "mimetype": "text/x-python",
   "name": "python",
   "nbconvert_exporter": "python",
   "pygments_lexer": "ipython3",
   "version": "3.9.7"
  },
  "toc": {
   "base_numbering": 1,
   "nav_menu": {},
   "number_sections": true,
   "sideBar": true,
   "skip_h1_title": false,
   "title_cell": "Table of Contents",
   "title_sidebar": "Contents",
   "toc_cell": false,
   "toc_position": {},
   "toc_section_display": true,
   "toc_window_display": false
  }
 },
 "nbformat": 4,
 "nbformat_minor": 5
}
