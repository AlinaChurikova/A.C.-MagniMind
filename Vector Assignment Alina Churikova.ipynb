{
 "cells": [
  {
   "cell_type": "code",
   "execution_count": null,
   "id": "0dd0fc80",
   "metadata": {},
   "outputs": [],
   "source": [
    "#1 Write a NumPy program to convert a list of numeric value into a one-dimensional NumPy array."
   ]
  },
  {
   "cell_type": "code",
   "execution_count": 27,
   "id": "8cf08c7b",
   "metadata": {},
   "outputs": [
    {
     "name": "stdout",
     "output_type": "stream",
     "text": [
      "[ 12.23  13.32 100.    36.32]\n",
      "<class 'list'>\n",
      "<class 'numpy.ndarray'>\n"
     ]
    }
   ],
   "source": [
    "import numpy as np\n",
    "from numpy import array\n",
    "x = [12.23, 13.32, 100, 36.32]\n",
    "y = np.array(x)\n",
    "print(y)\n",
    "print(type(x))\n",
    "print(type(y))"
   ]
  },
  {
   "cell_type": "code",
   "execution_count": null,
   "id": "30a7c70e",
   "metadata": {},
   "outputs": [],
   "source": []
  },
  {
   "cell_type": "code",
   "execution_count": 32,
   "id": "f54b1027",
   "metadata": {},
   "outputs": [
    {
     "name": "stdout",
     "output_type": "stream",
     "text": [
      "[ 2  3  4  5  6  7  8  9 10]\n",
      "[[ 2  3  4]\n",
      " [ 5  6  7]\n",
      " [ 8  9 10]]\n"
     ]
    }
   ],
   "source": [
    "#2 Write a NumPy program to create a 3x3 matrix with values ranging from 2 to 10.\n",
    "\n",
    "import numpy as np\n",
    "from numpy import array\n",
    "x = np.arange(2,11)\n",
    "y = np.arange(2,11).reshape([3,3])\n",
    "print(x)\n",
    "print(y)"
   ]
  },
  {
   "cell_type": "code",
   "execution_count": null,
   "id": "8280b1f8",
   "metadata": {},
   "outputs": [],
   "source": []
  },
  {
   "cell_type": "code",
   "execution_count": 39,
   "id": "8685d78b",
   "metadata": {},
   "outputs": [
    {
     "name": "stdout",
     "output_type": "stream",
     "text": [
      "[ 0.  0.  0.  0.  0.  0. 11.  0.  0.  0.]\n"
     ]
    }
   ],
   "source": [
    "#3 Write a NumPy program to create a null vector of size 10 and update sixth value to 11.\n",
    "\n",
    "x = np.zeros(10)\n",
    "x[6]=11\n",
    "print(x)"
   ]
  },
  {
   "cell_type": "code",
   "execution_count": null,
   "id": "f8ddda68",
   "metadata": {},
   "outputs": [],
   "source": []
  },
  {
   "cell_type": "code",
   "execution_count": 42,
   "id": "24ce80e1",
   "metadata": {},
   "outputs": [
    {
     "name": "stdout",
     "output_type": "stream",
     "text": [
      "[12 13 14 15 16 17 18 19 20 21 22 23 24 25 26 27 28 29 30 31 32 33 34 35\n",
      " 36 37 38]\n"
     ]
    }
   ],
   "source": [
    "#4 Write a NumPy program to create an array with values ranging from 12 to 38.\n",
    "\n",
    "x = np.arange(12,39)\n",
    "print(x)"
   ]
  },
  {
   "cell_type": "code",
   "execution_count": null,
   "id": "90c993bd",
   "metadata": {},
   "outputs": [],
   "source": []
  },
  {
   "cell_type": "code",
   "execution_count": 46,
   "id": "15d3378a",
   "metadata": {},
   "outputs": [
    {
     "data": {
      "text/plain": [
       "array([37, 36, 35, 34, 33, 32, 31, 30, 29, 28, 27, 26, 25, 24, 23, 22, 21,\n",
       "       20, 19, 18, 17, 16, 15, 14, 13, 12])"
      ]
     },
     "execution_count": 46,
     "metadata": {},
     "output_type": "execute_result"
    }
   ],
   "source": [
    "#5 Write a NumPy program to reverse an array (first element becomes last)\n",
    "\n",
    "x = np.arange(12,38)\n",
    "x[::-1]"
   ]
  },
  {
   "cell_type": "code",
   "execution_count": null,
   "id": "b3a27ffd",
   "metadata": {},
   "outputs": [],
   "source": []
  },
  {
   "cell_type": "code",
   "execution_count": 55,
   "id": "7f76bdc6",
   "metadata": {},
   "outputs": [
    {
     "data": {
      "text/plain": [
       "array([1., 2., 3., 4.])"
      ]
     },
     "execution_count": 55,
     "metadata": {},
     "output_type": "execute_result"
    }
   ],
   "source": [
    "#6 Write a NumPy program to convert an array to a float type\n",
    "\n",
    "x = [1, 2, 3, 4]\n",
    "intarray = np.array(x)\n",
    "floatarray = np.asfarray(intarray)\n",
    "floatarray"
   ]
  },
  {
   "cell_type": "code",
   "execution_count": null,
   "id": "55c86088",
   "metadata": {},
   "outputs": [],
   "source": []
  },
  {
   "cell_type": "code",
   "execution_count": 62,
   "id": "12f31c9f",
   "metadata": {},
   "outputs": [
    {
     "name": "stdout",
     "output_type": "stream",
     "text": [
      "[[1. 1. 1. 1. 1.]\n",
      " [1. 1. 1. 1. 1.]\n",
      " [1. 1. 1. 1. 1.]\n",
      " [1. 1. 1. 1. 1.]\n",
      " [1. 1. 1. 1. 1.]]\n",
      "[[1. 1. 1. 1. 1.]\n",
      " [1. 0. 0. 0. 1.]\n",
      " [1. 0. 0. 0. 1.]\n",
      " [1. 0. 0. 0. 1.]\n",
      " [1. 1. 1. 1. 1.]]\n"
     ]
    }
   ],
   "source": [
    "#7 Write a NumPy program to create a 2d array with 1 on the border and 0 inside.\n",
    "\n",
    "x = np.ones((5,5))\n",
    "print(x)\n",
    "x[1:-1,1:-1] = 0\n",
    "print(x)"
   ]
  },
  {
   "cell_type": "code",
   "execution_count": null,
   "id": "82f1b846",
   "metadata": {},
   "outputs": [],
   "source": []
  },
  {
   "cell_type": "code",
   "execution_count": 65,
   "id": "265f9a7a",
   "metadata": {},
   "outputs": [
    {
     "name": "stdout",
     "output_type": "stream",
     "text": [
      "[[1. 1. 1.]\n",
      " [1. 1. 1.]\n",
      " [1. 1. 1.]]\n",
      "[[0. 0. 0. 0. 0.]\n",
      " [0. 1. 1. 1. 0.]\n",
      " [0. 1. 1. 1. 0.]\n",
      " [0. 1. 1. 1. 0.]\n",
      " [0. 0. 0. 0. 0.]]\n"
     ]
    }
   ],
   "source": [
    "# 8 Write a NumPy program to add a border (filled with 0's) around an existing array.\n",
    "\n",
    "import numpy as np\n",
    "myarray = np.ones((3,3))\n",
    "print(myarray)\n",
    "\n",
    "pad_arr = np.pad(myarray, pad_width=1, mode = 'constant', \n",
    "                 constant_values=0)\n",
    "  \n",
    "print(pad_arr)"
   ]
  },
  {
   "cell_type": "code",
   "execution_count": null,
   "id": "29097212",
   "metadata": {},
   "outputs": [],
   "source": []
  },
  {
   "cell_type": "code",
   "execution_count": 72,
   "id": "9a9d3aae",
   "metadata": {},
   "outputs": [
    {
     "name": "stdout",
     "output_type": "stream",
     "text": [
      "[[1. 0. 1. 0. 1. 0. 1. 0.]\n",
      " [0. 1. 0. 1. 0. 1. 0. 1.]\n",
      " [1. 0. 1. 0. 1. 0. 1. 0.]\n",
      " [0. 1. 0. 1. 0. 1. 0. 1.]\n",
      " [1. 0. 1. 0. 1. 0. 1. 0.]\n",
      " [0. 1. 0. 1. 0. 1. 0. 1.]\n",
      " [1. 0. 1. 0. 1. 0. 1. 0.]\n",
      " [0. 1. 0. 1. 0. 1. 0. 1.]]\n"
     ]
    }
   ],
   "source": [
    "#9 \n",
    "myarray = np.zeros((8,8))\n",
    "myarray[1::2,1::2]=1\n",
    "myarray[::2,::2]=1\n",
    "print(myarray)"
   ]
  },
  {
   "cell_type": "code",
   "execution_count": null,
   "id": "129f72dc",
   "metadata": {},
   "outputs": [],
   "source": []
  },
  {
   "cell_type": "code",
   "execution_count": 98,
   "id": "be46469b",
   "metadata": {},
   "outputs": [
    {
     "name": "stdout",
     "output_type": "stream",
     "text": [
      "[1, 2, 3, 4, 5, 6, 7, 8]\n",
      "[1 2 3 4 5 6 7 8]\n",
      "<class 'list'>\n",
      "<class 'numpy.ndarray'>\n"
     ]
    }
   ],
   "source": [
    "#10 Write a NumPy program to convert a list and tuple into arrays\n",
    "\n",
    "import numpy as np\n",
    "my_list = [1, 2, 3, 4, 5, 6, 7, 8]\n",
    "print(my_list)\n",
    "my_array = np.array(my_list)\n",
    "print(my_array)\n",
    "print(type(my_list))\n",
    "print(type(my_array))"
   ]
  },
  {
   "cell_type": "code",
   "execution_count": 105,
   "id": "dd6bbe5b",
   "metadata": {},
   "outputs": [
    {
     "name": "stdout",
     "output_type": "stream",
     "text": [
      "[[8 4 6]\n",
      " [1 2 3]]\n"
     ]
    }
   ],
   "source": [
    "my_tuple = ([8, 4, 6], [1, 2, 3])\n",
    "print(np.asarray(my_tuple))"
   ]
  },
  {
   "cell_type": "code",
   "execution_count": null,
   "id": "5986eec3",
   "metadata": {},
   "outputs": [],
   "source": []
  },
  {
   "cell_type": "code",
   "execution_count": 107,
   "id": "f0f68405",
   "metadata": {},
   "outputs": [
    {
     "data": {
      "text/plain": [
       "array([10, 20, 30, 40, 50, 60, 70, 80, 90])"
      ]
     },
     "execution_count": 107,
     "metadata": {},
     "output_type": "execute_result"
    }
   ],
   "source": [
    "#11 Write a NumPy program to append values to the end of an array.\n",
    "\n",
    "x = [10, 20, 30]\n",
    "np.append(x,[[40, 50,60],[70, 80, 90]])"
   ]
  },
  {
   "cell_type": "code",
   "execution_count": null,
   "id": "293dabac",
   "metadata": {},
   "outputs": [],
   "source": []
  },
  {
   "cell_type": "code",
   "execution_count": 109,
   "id": "4d5edccf",
   "metadata": {},
   "outputs": [
    {
     "name": "stdout",
     "output_type": "stream",
     "text": [
      "[ 32.     53.6   113.378  93.2   211.838]\n"
     ]
    }
   ],
   "source": [
    "#12 Write a NumPy program to convert the values of Centigrade degrees into Fahrenheit degrees\n",
    "\n",
    "x = np.array([0, 12, 45.21 ,34, 99.91])\n",
    "y = (x * 1.8) + 32\n",
    "print(y)"
   ]
  },
  {
   "cell_type": "code",
   "execution_count": null,
   "id": "e76e45ec",
   "metadata": {},
   "outputs": [],
   "source": []
  },
  {
   "cell_type": "code",
   "execution_count": null,
   "id": "b681d3b4",
   "metadata": {},
   "outputs": [],
   "source": [
    "#13 "
   ]
  },
  {
   "cell_type": "code",
   "execution_count": 114,
   "id": "1303d50c",
   "metadata": {},
   "outputs": [
    {
     "name": "stdout",
     "output_type": "stream",
     "text": [
      "3\n",
      "8\n",
      "24\n"
     ]
    }
   ],
   "source": [
    "x = [1, 2, 3]\n",
    "y = np.array(x)\n",
    "print(y.size)\n",
    "print(y.itemsize)\n",
    "print(y.nbytes)"
   ]
  },
  {
   "cell_type": "code",
   "execution_count": null,
   "id": "7e04089f",
   "metadata": {},
   "outputs": [],
   "source": []
  },
  {
   "cell_type": "code",
   "execution_count": 123,
   "id": "71ddffe4",
   "metadata": {},
   "outputs": [
    {
     "name": "stdout",
     "output_type": "stream",
     "text": [
      "[10 40]\n"
     ]
    }
   ],
   "source": [
    "#14 Write a NumPy program to find common values between two arrays.\n",
    "\n",
    "import numpy as np\n",
    "Ar1 = np.array([0,10, 20, 40, 60])\n",
    "Ar2 = [10, 30, 40]       #??????\n",
    "print(np.intersect1d(Ar1, Ar2))"
   ]
  },
  {
   "cell_type": "code",
   "execution_count": null,
   "id": "0949a6ea",
   "metadata": {},
   "outputs": [],
   "source": []
  },
  {
   "cell_type": "code",
   "execution_count": 126,
   "id": "cc7cf00c",
   "metadata": {},
   "outputs": [
    {
     "data": {
      "text/plain": [
       "array([10, 20, 30, 40])"
      ]
     },
     "execution_count": 126,
     "metadata": {},
     "output_type": "execute_result"
    }
   ],
   "source": [
    "#15 Write a NumPy program to get the unique elements of an array.\n",
    "\n",
    "a = np.array([10, 10, 20, 20, 30, 40])\n",
    "np.unique(a)"
   ]
  },
  {
   "cell_type": "code",
   "execution_count": null,
   "id": "c5fbfa20",
   "metadata": {},
   "outputs": [],
   "source": []
  },
  {
   "cell_type": "code",
   "execution_count": 127,
   "id": "327c98c8",
   "metadata": {},
   "outputs": [
    {
     "name": "stdout",
     "output_type": "stream",
     "text": [
      "[ 0 20 60 80]\n"
     ]
    }
   ],
   "source": [
    "#16 Write a NumPy program to find the set difference of two arrays. \n",
    "\n",
    "ar1 = np.array([0, 10, 20, 40, 60, 80])\n",
    "ar2 = np.array([10, 30, 40, 50, 70])\n",
    "# set difference ar1 - ar2\n",
    "ar1_2_diff = np.setdiff1d(ar1, ar2)\n",
    "# display the array\n",
    "print(ar1_2_diff)"
   ]
  },
  {
   "cell_type": "code",
   "execution_count": null,
   "id": "fa431683",
   "metadata": {},
   "outputs": [],
   "source": []
  },
  {
   "cell_type": "code",
   "execution_count": 128,
   "id": "14e27585",
   "metadata": {},
   "outputs": [
    {
     "name": "stdout",
     "output_type": "stream",
     "text": [
      "[ 0 20 30 50 60 70 80]\n"
     ]
    }
   ],
   "source": [
    "#17 Write a NumPy program to find the set exclusive-or of two arrays.\n",
    "\n",
    "import numpy as np\n",
    "arr1 = np.array([[0, 10, 20, 40, 60, 80]])\n",
    "arr2 = [10, 30, 40, 50, 70]\n",
    "print(np.setxor1d(arr1, arr2))"
   ]
  },
  {
   "cell_type": "code",
   "execution_count": null,
   "id": "27684523",
   "metadata": {},
   "outputs": [],
   "source": []
  },
  {
   "cell_type": "code",
   "execution_count": 129,
   "id": "2e942c9a",
   "metadata": {},
   "outputs": [
    {
     "name": "stdout",
     "output_type": "stream",
     "text": [
      "[ 0 10 20 30 40 50 60 70 80]\n"
     ]
    }
   ],
   "source": [
    "#18 Write a NumPy program to find the union of two arrays.\n",
    "\n",
    "import numpy as np\n",
    "arr1 = np.array([[0, 10, 20, 40, 60, 80]])\n",
    "arr2 = [10, 30, 40, 50, 70]\n",
    "print(np.union1d(arr1, arr2))"
   ]
  },
  {
   "cell_type": "code",
   "execution_count": null,
   "id": "3f804ccc",
   "metadata": {},
   "outputs": [],
   "source": []
  },
  {
   "cell_type": "code",
   "execution_count": 130,
   "id": "f1d66780",
   "metadata": {},
   "outputs": [
    {
     "name": "stdout",
     "output_type": "stream",
     "text": [
      "False\n",
      "True\n",
      "False\n",
      "True\n"
     ]
    }
   ],
   "source": [
    "#19 Write a NumPy program to test whether all elements in an array evaluate to True.\n",
    "\n",
    "import numpy as np\n",
    "print(np.all([[True,False],[True,True]]))\n",
    "print(np.all([[True,True],[True,True]]))\n",
    "print(np.all([10, 20, 0, -50]))\n",
    "print(np.all([10, 20, -50]))"
   ]
  },
  {
   "cell_type": "code",
   "execution_count": null,
   "id": "6f8fa4f6",
   "metadata": {},
   "outputs": [],
   "source": []
  },
  {
   "cell_type": "code",
   "execution_count": 132,
   "id": "cb915e2d",
   "metadata": {},
   "outputs": [
    {
     "name": "stdout",
     "output_type": "stream",
     "text": [
      "Original array: [1 2 3 4 5 6]\n",
      "Maximum Values: 5\n",
      "Minimum Values: 0\n"
     ]
    }
   ],
   "source": [
    "#20 Write a NumPy program to find the indices of the maximum and minimum values \n",
    "\n",
    "import numpy as np\n",
    "x = np.array([1, 2, 3, 4, 5, 6])\n",
    "print(\"Original array:\",x)\n",
    "print(\"Maximum Values:\",np.argmax(x))\n",
    "print(\"Minimum Values:\",np.argmin(x))"
   ]
  },
  {
   "cell_type": "code",
   "execution_count": null,
   "id": "218196f3",
   "metadata": {},
   "outputs": [],
   "source": []
  },
  {
   "cell_type": "code",
   "execution_count": 138,
   "id": "f4666939",
   "metadata": {},
   "outputs": [
    {
     "name": "stdout",
     "output_type": "stream",
     "text": [
      "Given array  [[ 0 10 20]\n",
      " [20 30 40]]\n",
      "Values bigger than 10 are  [20 20 30 40]\n",
      "Their indicies are  (array([0, 1, 1, 1]), array([2, 0, 1, 2]))\n"
     ]
    }
   ],
   "source": [
    "#21\n",
    "\n",
    "import numpy as np\n",
    "x = np.array([[0, 10, 20], [20, 30, 40]])\n",
    "print(\"Given array \",x)\n",
    "print(\"Values bigger than 10 are \",x[x>10])\n",
    "print(\"Their indicies are \",np.nonzero(x>10))"
   ]
  },
  {
   "cell_type": "code",
   "execution_count": null,
   "id": "83edba35",
   "metadata": {},
   "outputs": [],
   "source": []
  },
  {
   "cell_type": "code",
   "execution_count": 140,
   "id": "b883d74c",
   "metadata": {},
   "outputs": [
    {
     "name": "stdout",
     "output_type": "stream",
     "text": [
      "[1. 1.]\n",
      "[0. 0.]\n"
     ]
    }
   ],
   "source": [
    "#22 Write a NumPy program to create an array of ones of size 2, and an array of zeros of size 2\n",
    "\n",
    "import numpy as np\n",
    "x = np.ones(2)\n",
    "y = np.zeros(2)\n",
    "print(x)\n",
    "print(y)"
   ]
  },
  {
   "cell_type": "code",
   "execution_count": null,
   "id": "cf29b37f",
   "metadata": {},
   "outputs": [],
   "source": []
  },
  {
   "cell_type": "code",
   "execution_count": 142,
   "id": "fb9e8236",
   "metadata": {},
   "outputs": [
    {
     "name": "stdout",
     "output_type": "stream",
     "text": [
      "Original array: [[10 20 30]\n",
      " [20 40 50]]\n",
      "Flattened array: [10 20 30 20 40 50]\n"
     ]
    }
   ],
   "source": [
    "#23 Write a NumPy program to create a contiguous flattened array\n",
    "\n",
    "\n",
    "x = np.array ([[10, 20, 30],[20, 40, 50]])\n",
    "print(\"Original array:\",x)\n",
    "print(\"Flattened array:\", np.ravel(x))\n"
   ]
  },
  {
   "cell_type": "code",
   "execution_count": null,
   "id": "2d351157",
   "metadata": {},
   "outputs": [],
   "source": []
  },
  {
   "cell_type": "code",
   "execution_count": 143,
   "id": "4bd8a111",
   "metadata": {},
   "outputs": [
    {
     "data": {
      "text/plain": [
       "array([[1, 2],\n",
       "       [3, 4],\n",
       "       [5, 6]])"
      ]
     },
     "execution_count": 143,
     "metadata": {},
     "output_type": "execute_result"
    }
   ],
   "source": [
    "#24 Write a NumPy program to create a new shape to an array without changing its data.\n",
    "\n",
    "import numpy as np\n",
    "from numpy import array\n",
    "x = np.array([1, 2, 3, 4, 5, 6])\n",
    "np.reshape(x,(3,2))"
   ]
  },
  {
   "cell_type": "code",
   "execution_count": 23,
   "id": "786edd7a",
   "metadata": {},
   "outputs": [
    {
     "data": {
      "text/plain": [
       "array([[1, 2, 3],\n",
       "       [4, 5, 6]])"
      ]
     },
     "execution_count": 23,
     "metadata": {},
     "output_type": "execute_result"
    }
   ],
   "source": [
    "np.reshape(x,(2,3))"
   ]
  },
  {
   "cell_type": "code",
   "execution_count": null,
   "id": "31d2511d",
   "metadata": {},
   "outputs": [],
   "source": []
  },
  {
   "cell_type": "code",
   "execution_count": 149,
   "id": "7f36a9eb",
   "metadata": {},
   "outputs": [
    {
     "name": "stdout",
     "output_type": "stream",
     "text": [
      "[[ 2  4  6]\n",
      " [ 6  8 10]]\n",
      "int32\n",
      "[[ 2.  4.  6.]\n",
      " [ 6.  8. 10.]]\n",
      "float64\n"
     ]
    }
   ],
   "source": [
    "#25 Write a NumPy program to change the data type of an array.\n",
    "\n",
    "x = np.array([[2, 4, 6], [6, 8, 10]], np.int32)\n",
    "print(x)\n",
    "print(x.dtype)\n",
    "y = np.float64(x)\n",
    "print(y)\n",
    "print(y.dtype)"
   ]
  },
  {
   "cell_type": "code",
   "execution_count": null,
   "id": "37f585bd",
   "metadata": {},
   "outputs": [],
   "source": []
  },
  {
   "cell_type": "code",
   "execution_count": 150,
   "id": "5f3a6c09",
   "metadata": {},
   "outputs": [
    {
     "name": "stdout",
     "output_type": "stream",
     "text": [
      "[  100.           141.25375446   199.5262315    281.83829313\n",
      "   398.10717055   562.34132519   794.32823472  1122.0184543\n",
      "  1584.89319246  2238.72113857  3162.27766017  4466.83592151\n",
      "  6309.5734448   8912.50938134 12589.25411794 17782.79410039\n",
      " 25118.8643151  35481.33892336 50118.72336273 70794.57843841]\n"
     ]
    }
   ],
   "source": [
    "#26 Write a NumPy program to create a 1-D array of 20 element ...\n",
    "\n",
    "import numpy as np\n",
    "x =  np.logspace(2., 5., 20, endpoint=False)\n",
    "print(x)"
   ]
  },
  {
   "cell_type": "code",
   "execution_count": null,
   "id": "fa673d62",
   "metadata": {},
   "outputs": [],
   "source": []
  },
  {
   "cell_type": "code",
   "execution_count": 151,
   "id": "b247f044",
   "metadata": {},
   "outputs": [
    {
     "name": "stdout",
     "output_type": "stream",
     "text": [
      "[[ 0  1  3  0  2  4]\n",
      " [ 5  7  9  6  8 10]]\n",
      "(2, 6)\n"
     ]
    }
   ],
   "source": [
    "#27 Write a NumPy program to concatenate two 2-dimensional arrays. \n",
    "\n",
    "import numpy as np\n",
    "x = np.array([[0, 1, 3], [5, 7, 9]])\n",
    "y = np.array([[0, 2, 4], [6, 8, 10]])\n",
    "z1 = np.concatenate((x,y),1)\n",
    "print(z1)\n",
    "print(z1.shape)"
   ]
  },
  {
   "cell_type": "code",
   "execution_count": null,
   "id": "854d2e79",
   "metadata": {},
   "outputs": [],
   "source": []
  },
  {
   "cell_type": "code",
   "execution_count": 152,
   "id": "c172f039",
   "metadata": {},
   "outputs": [
    {
     "name": "stdout",
     "output_type": "stream",
     "text": [
      "Original array: [ 1  2  3  4  5  6  7  8  9 10 11 12 13 14]\n",
      "After splitting:\n",
      "[array([1, 2]), array([3, 4, 5, 6]), array([ 7,  8,  9, 10, 11, 12, 13, 14])]\n"
     ]
    }
   ],
   "source": [
    "#28 \n",
    "\n",
    "import numpy as np\n",
    "x = np.arange(1, 15)\n",
    "print(\"Original array:\",x)\n",
    "print(\"After splitting:\")\n",
    "print(np.split(x, [2, 6]))"
   ]
  },
  {
   "cell_type": "code",
   "execution_count": null,
   "id": "56d8be72",
   "metadata": {},
   "outputs": [],
   "source": []
  },
  {
   "cell_type": "code",
   "execution_count": 154,
   "id": "782c0908",
   "metadata": {},
   "outputs": [
    {
     "name": "stdout",
     "output_type": "stream",
     "text": [
      "Original array: [[ 0  1  2  3]\n",
      " [ 4  5  6  7]\n",
      " [ 8  9 10 11]\n",
      " [12 13 14 15]]\n",
      "After splitting:\n",
      "[array([[ 0,  1],\n",
      "       [ 4,  5],\n",
      "       [ 8,  9],\n",
      "       [12, 13]]), array([[ 2,  3],\n",
      "       [ 6,  7],\n",
      "       [10, 11],\n",
      "       [14, 15]]), array([], shape=(4, 0), dtype=int64)]\n"
     ]
    }
   ],
   "source": [
    "#29 \n",
    "\n",
    "import numpy as np\n",
    "x = np.arange(16).reshape((4, 4))\n",
    "print(\"Original array:\",x)\n",
    "print(\"After splitting:\")\n",
    "print(np.hsplit(x, [2, 6]))"
   ]
  },
  {
   "cell_type": "code",
   "execution_count": null,
   "id": "52e1c8e8",
   "metadata": {},
   "outputs": [],
   "source": []
  },
  {
   "cell_type": "code",
   "execution_count": 155,
   "id": "dfc59d81",
   "metadata": {},
   "outputs": [
    {
     "data": {
      "text/plain": [
       "5"
      ]
     },
     "execution_count": 155,
     "metadata": {},
     "output_type": "execute_result"
    }
   ],
   "source": [
    "#30\n",
    "\n",
    "x = np.array([[0, 10, 20],[20, 30, 40]])\n",
    "np.count_nonzero(x)"
   ]
  },
  {
   "cell_type": "code",
   "execution_count": null,
   "id": "3c2a268e",
   "metadata": {},
   "outputs": [],
   "source": []
  },
  {
   "cell_type": "code",
   "execution_count": 168,
   "id": "824bb5c5",
   "metadata": {},
   "outputs": [
    {
     "name": "stdout",
     "output_type": "stream",
     "text": [
      "[[ 10  20  30 100]\n",
      " [ 40  50  60 200]]\n"
     ]
    }
   ],
   "source": [
    "#31 Write a NumPy program to add an extra column to a NumPy array.\n",
    "\n",
    "import numpy as np\n",
    "x = np.array([[10,20,30], [40,50,60]])\n",
    "y = np.array([[100], [200]])\n",
    "print(np.append(x, y, axis=1))"
   ]
  },
  {
   "cell_type": "code",
   "execution_count": null,
   "id": "256e36a5",
   "metadata": {},
   "outputs": [],
   "source": []
  },
  {
   "cell_type": "code",
   "execution_count": 169,
   "id": "2203c384",
   "metadata": {},
   "outputs": [
    {
     "name": "stdout",
     "output_type": "stream",
     "text": [
      "[0 0 0 2 3 4 5 0]\n"
     ]
    }
   ],
   "source": [
    "#32 Write a NumPy program to remove the negative values in a NumPy array with 0.\n",
    "\n",
    "import numpy as np\n",
    "x = np.array([-1, -4, 0, 2, 3, 4, 5, -6])\n",
    "x[x < 0] = 0\n",
    "print(x)"
   ]
  },
  {
   "cell_type": "code",
   "execution_count": null,
   "id": "38a4b9cb",
   "metadata": {},
   "outputs": [],
   "source": []
  },
  {
   "cell_type": "code",
   "execution_count": 170,
   "id": "ec8be1fd",
   "metadata": {},
   "outputs": [
    {
     "name": "stdout",
     "output_type": "stream",
     "text": [
      "Original array:\n",
      "[[ 1.  2.  3.]\n",
      " [ 4.  5. nan]\n",
      " [ 7.  8.  9.]\n",
      " [ 1.  0.  1.]]\n",
      "Remove all non-numeric elements of the array\n",
      "[[1. 2. 3.]\n",
      " [7. 8. 9.]\n",
      " [1. 0. 1.]]\n"
     ]
    }
   ],
   "source": [
    "#33 \n",
    "\n",
    "import numpy as np\n",
    "x = np.array([[1,2,3], [4,5,np.nan], [7,8,9], [1, 0, 1]])\n",
    "print(\"Original array:\")\n",
    "print(x)\n",
    "print(\"Remove all non-numeric elements of the array\")\n",
    "print(x[~np.isnan(x).any(axis=1)])"
   ]
  },
  {
   "cell_type": "code",
   "execution_count": null,
   "id": "a9209ade",
   "metadata": {},
   "outputs": [],
   "source": []
  },
  {
   "cell_type": "code",
   "execution_count": 174,
   "id": "37fe1430",
   "metadata": {},
   "outputs": [
    {
     "name": "stdout",
     "output_type": "stream",
     "text": [
      "Original arrays\n",
      "[ 97 101 105 111 117]\n",
      "['a' 'e' 'i' 'o' 'u']\n",
      "Elements from the second array  corresponding to elements in the first array n\\  that are greater than 100 and less than 110:\n",
      "['e' 'i']\n"
     ]
    }
   ],
   "source": [
    "#34 Write a NumPy program to select indices satisfying multiple conditions in a NumPy array.\n",
    "\n",
    "import numpy as np\n",
    "a = np.array([97, 101, 105, 111, 117]) \n",
    "b = np.array(['a','e','i','o','u'])\n",
    "print(\"Original arrays\")\n",
    "print(a)\n",
    "print(b)\n",
    "print(\"Elements from the second array  corresponding to elements in the first array  that are greater than 100 and less than 110:\")\n",
    "print(b[(100 < a) & (a < 110)])"
   ]
  },
  {
   "cell_type": "code",
   "execution_count": null,
   "id": "a396fd01",
   "metadata": {},
   "outputs": [],
   "source": []
  },
  {
   "cell_type": "code",
   "execution_count": 178,
   "id": "87acefa4",
   "metadata": {},
   "outputs": [
    {
     "name": "stdout",
     "output_type": "stream",
     "text": [
      "Original array:\n",
      "[10 10 20 10 20 20 20 30 30 50 40 40]\n",
      "Frequency of unique values of the said array:\n",
      "[[10 20 30 40 50]\n",
      " [ 3  4  2  2  1]]\n"
     ]
    }
   ],
   "source": [
    "#35 Write a NumPy program to count the frequency of unique values in numpy array.\n",
    "\n",
    "import numpy as np\n",
    "a = np.array( [10,10,20,10,20,20,20,30,30,50,40,40])\n",
    "print(\"Original array:\")\n",
    "print(a)\n",
    "unique_elements, counts_elements = np.unique(a, return_counts=True)\n",
    "print(\"Frequency of unique values of the said array:\")\n",
    "print(np.asarray((unique_elements, counts_elements)))"
   ]
  },
  {
   "cell_type": "code",
   "execution_count": null,
   "id": "b0f60ce2",
   "metadata": {},
   "outputs": [],
   "source": []
  },
  {
   "cell_type": "code",
   "execution_count": 181,
   "id": "ad0390db",
   "metadata": {},
   "outputs": [
    {
     "name": "stdout",
     "output_type": "stream",
     "text": [
      "[[1 2 3]\n",
      " [4 5 6]\n",
      " [7 8 9]]\n",
      "[[2 3]\n",
      " [5 6]\n",
      " [8 9]]\n"
     ]
    }
   ],
   "source": [
    "#36 Write a NumPy program to access last two columns of a multidimensional columns.\n",
    "\n",
    "import numpy as np\n",
    "x = np.array([[1, 2, 3], [4, 5, 6], [7, 8, 9]])\n",
    "print(arra)\n",
    "result = x[:,[1,2]]\n",
    "print(result)"
   ]
  },
  {
   "cell_type": "code",
   "execution_count": null,
   "id": "9f910b38",
   "metadata": {},
   "outputs": [],
   "source": []
  },
  {
   "cell_type": "code",
   "execution_count": null,
   "id": "e77ea7f7",
   "metadata": {},
   "outputs": [],
   "source": []
  },
  {
   "cell_type": "code",
   "execution_count": null,
   "id": "9a192153",
   "metadata": {},
   "outputs": [],
   "source": []
  }
 ],
 "metadata": {
  "kernelspec": {
   "display_name": "Python 3 (ipykernel)",
   "language": "python",
   "name": "python3"
  },
  "language_info": {
   "codemirror_mode": {
    "name": "ipython",
    "version": 3
   },
   "file_extension": ".py",
   "mimetype": "text/x-python",
   "name": "python",
   "nbconvert_exporter": "python",
   "pygments_lexer": "ipython3",
   "version": "3.9.7"
  },
  "toc": {
   "base_numbering": 1,
   "nav_menu": {},
   "number_sections": true,
   "sideBar": true,
   "skip_h1_title": false,
   "title_cell": "Table of Contents",
   "title_sidebar": "Contents",
   "toc_cell": false,
   "toc_position": {},
   "toc_section_display": true,
   "toc_window_display": false
  }
 },
 "nbformat": 4,
 "nbformat_minor": 5
}
