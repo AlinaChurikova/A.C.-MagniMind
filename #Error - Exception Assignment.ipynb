{
 "cells": [
  {
   "cell_type": "markdown",
   "id": "b9e84bcb",
   "metadata": {},
   "source": [
    "1- Let us define a division operation inside a function (using def) but to get an error, define the denominator as 0. So, type except statement properly."
   ]
  },
  {
   "cell_type": "code",
   "execution_count": 25,
   "id": "3c07baad",
   "metadata": {},
   "outputs": [
    {
     "name": "stdout",
     "output_type": "stream",
     "text": [
      "Division on Zero is not possible\n",
      "None\n"
     ]
    }
   ],
   "source": [
    "def division(a):\n",
    "    try:\n",
    "        div = a/0\n",
    "        return div\n",
    "    except:\n",
    "        print('Division on Zero is not possible')\n",
    "print(division(50))"
   ]
  },
  {
   "cell_type": "markdown",
   "id": "b3c18a15",
   "metadata": {},
   "source": [
    "2- It is possible to get multiple errors after the execution of one try block. So, please define an error-exception issue with NameError."
   ]
  },
  {
   "cell_type": "code",
   "execution_count": 23,
   "id": "36a0e34f",
   "metadata": {},
   "outputs": [
    {
     "name": "stdout",
     "output_type": "stream",
     "text": [
      "NameError occurred.\n"
     ]
    }
   ],
   "source": [
    "def my_message():\n",
    "    try:\n",
    "        code = \"Python\"\n",
    "        return Python\n",
    "    except NameError:\n",
    "        return \"NameError occurred.\"\n",
    "print(my_message())"
   ]
  },
  {
   "cell_type": "markdown",
   "id": "9f5f5b4e",
   "metadata": {},
   "source": [
    "3- Please define a function and with this function, generate a ValueError exception simply by entering a string instead of numerical value."
   ]
  },
  {
   "cell_type": "code",
   "execution_count": 15,
   "id": "40018919",
   "metadata": {},
   "outputs": [
    {
     "name": "stdout",
     "output_type": "stream",
     "text": [
      "Please enter a number: gt\n",
      "Non-numeric data in the folder.\n"
     ]
    }
   ],
   "source": [
    "try:\n",
    "    x = int(input(\"Please enter a number: \"))\n",
    "except ValueError:\n",
    "    print('Non-numeric data in the folder.')"
   ]
  },
  {
   "cell_type": "markdown",
   "id": "99be9e8a",
   "metadata": {},
   "source": [
    "4- Write a function called circumference that takes the diameter of a circle as input and produces the circumference of the circle. Your function should use try...except to check for a type error in the event a string is passed."
   ]
  },
  {
   "cell_type": "code",
   "execution_count": 21,
   "id": "5abd5892",
   "metadata": {},
   "outputs": [
    {
     "name": "stdout",
     "output_type": "stream",
     "text": [
      "67\n",
      "420.97341558103227\n"
     ]
    }
   ],
   "source": [
    "import numpy\n",
    "try:\n",
    "    r = float(input())\n",
    "    circumference = 2 * numpy.pi * r\n",
    "    print(circumference)\n",
    "except:\n",
    "    print('Please type numeric data, not a string')"
   ]
  }
 ],
 "metadata": {
  "kernelspec": {
   "display_name": "Python 3 (ipykernel)",
   "language": "python",
   "name": "python3"
  },
  "language_info": {
   "codemirror_mode": {
    "name": "ipython",
    "version": 3
   },
   "file_extension": ".py",
   "mimetype": "text/x-python",
   "name": "python",
   "nbconvert_exporter": "python",
   "pygments_lexer": "ipython3",
   "version": "3.9.7"
  },
  "toc": {
   "base_numbering": 1,
   "nav_menu": {},
   "number_sections": true,
   "sideBar": true,
   "skip_h1_title": false,
   "title_cell": "Table of Contents",
   "title_sidebar": "Contents",
   "toc_cell": false,
   "toc_position": {},
   "toc_section_display": true,
   "toc_window_display": false
  }
 },
 "nbformat": 4,
 "nbformat_minor": 5
}
