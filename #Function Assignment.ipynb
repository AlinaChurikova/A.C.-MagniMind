{
 "cells": [
  {
   "cell_type": "markdown",
   "id": "232020b7",
   "metadata": {},
   "source": [
    "1. Finding Prime Number"
   ]
  },
  {
   "cell_type": "code",
   "execution_count": 7,
   "id": "e7466658",
   "metadata": {},
   "outputs": [],
   "source": [
    "#Method1"
   ]
  },
  {
   "cell_type": "code",
   "execution_count": 3,
   "id": "3465f47c",
   "metadata": {},
   "outputs": [
    {
     "name": "stdout",
     "output_type": "stream",
     "text": [
      "Collecting sympy\n",
      "  Downloading sympy-1.10.1-py3-none-any.whl (6.4 MB)\n",
      "\u001b[K     |████████████████████████████████| 6.4 MB 1.3 MB/s eta 0:00:01\n",
      "\u001b[?25hCollecting mpmath>=0.19\n",
      "  Downloading mpmath-1.2.1-py3-none-any.whl (532 kB)\n",
      "\u001b[K     |████████████████████████████████| 532 kB 1.2 MB/s eta 0:00:01\n",
      "\u001b[?25hInstalling collected packages: mpmath, sympy\n",
      "Successfully installed mpmath-1.2.1 sympy-1.10.1\n",
      "Note: you may need to restart the kernel to use updated packages.\n"
     ]
    }
   ],
   "source": [
    "pip install sympy"
   ]
  },
  {
   "cell_type": "code",
   "execution_count": 5,
   "id": "d964a3c7",
   "metadata": {},
   "outputs": [],
   "source": [
    "from sympy import *"
   ]
  },
  {
   "cell_type": "code",
   "execution_count": 9,
   "id": "103708bf",
   "metadata": {},
   "outputs": [
    {
     "name": "stdout",
     "output_type": "stream",
     "text": [
      "10\n"
     ]
    },
    {
     "data": {
      "text/plain": [
       "False"
      ]
     },
     "execution_count": 9,
     "metadata": {},
     "output_type": "execute_result"
    }
   ],
   "source": [
    "x = int(input())\n",
    "isprime(x)"
   ]
  },
  {
   "cell_type": "code",
   "execution_count": null,
   "id": "da6fee1b",
   "metadata": {},
   "outputs": [],
   "source": [
    "#Method2"
   ]
  },
  {
   "cell_type": "code",
   "execution_count": 53,
   "id": "ba2bcc1c",
   "metadata": {},
   "outputs": [
    {
     "name": "stdout",
     "output_type": "stream",
     "text": [
      "Enter a number greater than 0: -9\n",
      "Enter the number greater than 0\n"
     ]
    }
   ],
   "source": [
    "num = int(input(\"Enter a number greater than 0: \"))\n",
    "\n",
    "flag = False\n",
    "\n",
    "if num <= 0:\n",
    "    print('Enter the number greater than 0')\n",
    "else:\n",
    "    for i in range(2, num):\n",
    "        if (num % i) == 0:\n",
    "            flag = True\n",
    "            break\n",
    "    if flag:\n",
    "        print(num, \"is not a prime number\")\n",
    "    else:\n",
    "        print(num, \"is a prime number\")"
   ]
  },
  {
   "cell_type": "markdown",
   "id": "99c5593c",
   "metadata": {},
   "source": [
    "2. Rømer temperature"
   ]
  },
  {
   "cell_type": "code",
   "execution_count": 1,
   "id": "1bcdd886",
   "metadata": {},
   "outputs": [
    {
     "name": "stdout",
     "output_type": "stream",
     "text": [
      "6\n",
      "10.65\n"
     ]
    }
   ],
   "source": [
    "temp = int(input())\n",
    "def celsius_to_rome():\n",
    "    romer = temp *  0.52500 + 7.5\n",
    "    return romer\n",
    "print(celsius_to_rome())"
   ]
  },
  {
   "cell_type": "markdown",
   "id": "b64d280e",
   "metadata": {},
   "source": [
    "3. Pixelart planning"
   ]
  },
  {
   "cell_type": "code",
   "execution_count": 17,
   "id": "5858d1c2",
   "metadata": {},
   "outputs": [
    {
     "name": "stdout",
     "output_type": "stream",
     "text": [
      "True\n"
     ]
    }
   ],
   "source": [
    "def is_divisible (wall_size, pixel_size):\n",
    "    mural = wall_size % pixel_size == 0\n",
    "    return mural\n",
    "print(is_divisible(4050, 27))"
   ]
  },
  {
   "cell_type": "markdown",
   "id": "7516ac7a",
   "metadata": {},
   "source": [
    "4. Blue and red marbles"
   ]
  },
  {
   "cell_type": "code",
   "execution_count": 19,
   "id": "c07dcaf8",
   "metadata": {},
   "outputs": [
    {
     "name": "stdout",
     "output_type": "stream",
     "text": [
      "0.6\n"
     ]
    }
   ],
   "source": [
    "def guess_blue(blue_marbles_in, red_marbles_in, blue_marbles_out, red_marbles_out):\n",
    "    blue_left = blue_marbles_in - blue_marbles_out\n",
    "    red_left = red_marbles_in - red_marbles_out\n",
    "    total_left = blue_left + red_left\n",
    "    probability = blue_left / total_left\n",
    "    return probability\n",
    "\n",
    "print(guess_blue(5, 5, 2, 3))"
   ]
  },
  {
   "cell_type": "markdown",
   "id": "054793ec",
   "metadata": {},
   "source": [
    "5. Fillable"
   ]
  },
  {
   "cell_type": "code",
   "execution_count": 25,
   "id": "3504858c",
   "metadata": {},
   "outputs": [],
   "source": [
    "def fillable(stock, merch, n):\n",
    "    return True if merch in stock and stock[merch] >= n else False"
   ]
  },
  {
   "cell_type": "code",
   "execution_count": 34,
   "id": "12825e83",
   "metadata": {},
   "outputs": [
    {
     "name": "stdout",
     "output_type": "stream",
     "text": [
      "dict_keys(['earbuds', 'microphones', 'speakers', 'headsets', 'webcams'])\n",
      "Type a product from a list of stock webcams\n",
      "Type a quantity you want 5\n",
      "True\n"
     ]
    }
   ],
   "source": [
    "stock = {'earbuds': 20, \n",
    "         'microphones':72, \n",
    "         'speakers': 14, \n",
    "         'headsets': 59, \n",
    "         'webcams': 37}\n",
    "print(stock.keys())\n",
    "merch = input('Type a product from a list of stock ')\n",
    "n = int(input('Type a quantity you want '))\n",
    "print(fillable(stock, merch, n))"
   ]
  },
  {
   "cell_type": "markdown",
   "id": "3993cd91",
   "metadata": {},
   "source": [
    "6. Write a function called take_umbrella that takes two arguments: a string representing the current weather, and a float representing the chance of rain today."
   ]
  },
  {
   "cell_type": "code",
   "execution_count": 43,
   "id": "62ffa9bd",
   "metadata": {},
   "outputs": [
    {
     "ename": "SyntaxError",
     "evalue": "invalid syntax (374687194.py, line 1)",
     "output_type": "error",
     "traceback": [
      "\u001b[0;36m  Input \u001b[0;32mIn [43]\u001b[0;36m\u001b[0m\n\u001b[0;31m    def take_umbrella (current_weather, chance_of_rain)\u001b[0m\n\u001b[0m                                                       ^\u001b[0m\n\u001b[0;31mSyntaxError\u001b[0m\u001b[0;31m:\u001b[0m invalid syntax\n"
     ]
    }
   ],
   "source": [
    "def take_umbrella (current_weather, chance_of_rain)\n",
    "   if (weather==’sunny’ && chance <0.3)\n"
   ]
  },
  {
   "cell_type": "code",
   "execution_count": null,
   "id": "099e6539",
   "metadata": {},
   "outputs": [],
   "source": [
    "def fillable(f_stock, f_merch, f_n):\n",
    "    if f_stock[f_merch] >= f_n:\n",
    "        return True\n",
    "    else:\n",
    "        return False"
   ]
  },
  {
   "cell_type": "code",
   "execution_count": 64,
   "id": "76ad1c68",
   "metadata": {},
   "outputs": [
    {
     "name": "stdout",
     "output_type": "stream",
     "text": [
      "Current weather sun\n",
      "8\n",
      "No umbrella needed today\n",
      "None\n"
     ]
    }
   ],
   "source": [
    "def take_umbrella (current_weather, chance_of_rain):\n",
    "    if (current_weather == 'sun') or (chance_of_rain < 0.3):\n",
    "        print('No umbrella needed today')\n",
    "    else:\n",
    "        print('Take umbrella')\n",
    "current_weather = str(input('Current weather '))\n",
    "chance_of_rain = float(input())\n",
    "print(take_umbrella(current_weather, chance_of_rain))"
   ]
  }
 ],
 "metadata": {
  "kernelspec": {
   "display_name": "Python 3 (ipykernel)",
   "language": "python",
   "name": "python3"
  },
  "language_info": {
   "codemirror_mode": {
    "name": "ipython",
    "version": 3
   },
   "file_extension": ".py",
   "mimetype": "text/x-python",
   "name": "python",
   "nbconvert_exporter": "python",
   "pygments_lexer": "ipython3",
   "version": "3.9.7"
  },
  "toc": {
   "base_numbering": 1,
   "nav_menu": {},
   "number_sections": true,
   "sideBar": true,
   "skip_h1_title": false,
   "title_cell": "Table of Contents",
   "title_sidebar": "Contents",
   "toc_cell": false,
   "toc_position": {},
   "toc_section_display": true,
   "toc_window_display": false
  }
 },
 "nbformat": 4,
 "nbformat_minor": 5
}
