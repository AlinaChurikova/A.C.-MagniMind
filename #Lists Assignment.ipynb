{
 "cells": [
  {
   "cell_type": "code",
   "execution_count": null,
   "id": "c2c18884",
   "metadata": {},
   "outputs": [],
   "source": [
    "#Lists Assignment"
   ]
  },
  {
   "cell_type": "code",
   "execution_count": 18,
   "id": "b4d331f6",
   "metadata": {},
   "outputs": [
    {
     "name": "stdout",
     "output_type": "stream",
     "text": [
      "[2, 12, 34, 37, 45, 54, 56, 66, 67, 76, 98]\n",
      "14\n",
      "174\n"
     ]
    }
   ],
   "source": [
    "#1 Write a code to compute the sum of the two lowest numbers and the two highest numbers in the following list.\n",
    "\n",
    "\n",
    "my_list = [34, 56, 76, 45, 2, 12, 67, 98, 37, 54, 66]\n",
    "my_list.sort()\n",
    "print(my_list)\n",
    "sum_two_lowest = my_list[0] + my_list[1]\n",
    "print(sum_two_lowest)\n",
    "sum_two_highest = my_list[-1] + my_list[-2]\n",
    "print(sum_two_highest)"
   ]
  },
  {
   "cell_type": "code",
   "execution_count": 34,
   "id": "040a58c9",
   "metadata": {},
   "outputs": [
    {
     "name": "stdout",
     "output_type": "stream",
     "text": [
      "List of names with scores: {'David': 99, 'Michael': 87, 'John': 78, 'James': 86, 'Greg': 68, 'Mark': 94, 'William': 76, 'Richard': 97, 'Thomas': 56, 'Steven': 98, 'Mary': 76, 'Susan': 87, 'Maria': 79, 'Karen': 90, 'Lisa': 73, 'Linda': 93, 'Donna': 82, 'Patricia': 69, 'Debra': 97, 'Eric': 98}\n",
      "Enter the name: Patricia\n",
      "69\n"
     ]
    }
   ],
   "source": [
    "#2 Write a code that gets the name from the user and prints the score of that student.\n",
    "\n",
    "names = [\"David\", \"Michael\", \"John\", \"James\", \"Greg\", \"Mark\", \"William\", \"Richard\", \"Thomas\", \"Steven\", \"Mary\", \"Susan\", \"Maria\", \"Karen\", \"Lisa\", \"Linda\", \"Donna\", \"Patricia\", \"Debra\", \"Eric\"]\n",
    "scores = [99, 87, 78, 86, 68, 94, 76, 97, 56, 98, 76, 87, 79, 90, 73, 93, 82, 69, 97, 98]\n",
    "results = dict(zip(names, scores))\n",
    "print(\"List of names with scores: \" + str(results))\n",
    "d = str(input(\"Enter the name: \"))\n",
    "print(results[d])"
   ]
  },
  {
   "cell_type": "code",
   "execution_count": 42,
   "id": "ffcd2b76",
   "metadata": {},
   "outputs": [
    {
     "name": "stdout",
     "output_type": "stream",
     "text": [
      "99\n"
     ]
    },
    {
     "data": {
      "text/plain": [
       "1"
      ]
     },
     "execution_count": 42,
     "metadata": {},
     "output_type": "execute_result"
    }
   ],
   "source": [
    "#3 By using the two lists above, what is the maximum score and how many students got that score?\n",
    "\n",
    "print(max(scores))\n",
    "scores.count(max(scores))"
   ]
  },
  {
   "cell_type": "code",
   "execution_count": null,
   "id": "3cd59289",
   "metadata": {},
   "outputs": [],
   "source": []
  },
  {
   "cell_type": "code",
   "execution_count": 44,
   "id": "afc6e859",
   "metadata": {},
   "outputs": [
    {
     "data": {
      "text/plain": [
       "[['December', 31],\n",
       " ['January', 31],\n",
       " ['February', 28],\n",
       " ['March', 31],\n",
       " ['April', 30],\n",
       " ['May', 31],\n",
       " ['June', 30],\n",
       " ['July', 31],\n",
       " ['August', 31],\n",
       " ['September', 30],\n",
       " ['October', 31],\n",
       " ['November', 30]]"
      ]
     },
     "execution_count": 44,
     "metadata": {},
     "output_type": "execute_result"
    }
   ],
   "source": [
    "#4 You will have month names and day counts in your list together as a nested list.\n",
    "\n",
    "months = [['December', 31], ['January', 31], ['February', 28], ['March', 31], ['April', 30], ['May', 31], ['June', 30], ['July', 31], ['August', 31], ['September', 30], ['October', 31], ['November', 30]]\n",
    "months"
   ]
  },
  {
   "cell_type": "code",
   "execution_count": 57,
   "id": "7522f0fb",
   "metadata": {},
   "outputs": [
    {
     "name": "stdout",
     "output_type": "stream",
     "text": [
      "Winter [['December', 31], ['January', 31], ['February', 28]]\n",
      "Spring [['March', 31], ['April', 30], ['May', 31]]\n",
      "Summer [['June', 30], ['July', 31], ['August', 31]]\n",
      "Autumn [['September', 30], ['October', 31], ['November', 30]]\n"
     ]
    }
   ],
   "source": [
    "# Get month names and day counts from the list that you create before with slicing. Name the lists with seasons\n",
    "\n",
    "Winter = months[:3]\n",
    "print('Winter', Winter)\n",
    "Spring = months[3:6]\n",
    "print('Spring', Spring)\n",
    "Summer = months[6:9]\n",
    "print('Summer', Summer)\n",
    "Autumn = months[9:12]\n",
    "print('Autumn', Autumn)"
   ]
  },
  {
   "cell_type": "code",
   "execution_count": 80,
   "id": "a4d20d0a",
   "metadata": {},
   "outputs": [
    {
     "name": "stdout",
     "output_type": "stream",
     "text": [
      "[['June', 30], ['July', 31], ['August', 31]]\n",
      "The summer season lasts 92 days\n"
     ]
    }
   ],
   "source": [
    "#6 Calculate how many days the summer season lasts\n",
    "\n",
    "Summer = months[6:9]\n",
    "print(Summer) \n",
    "days1 = Summer[0][1]\n",
    "days2 = Summer[1][1]\n",
    "days3 = Summer[2][1]\n",
    "total_days = days1 + days2 + days3\n",
    "print('The summer season lasts', total_days, 'days')"
   ]
  },
  {
   "cell_type": "code",
   "execution_count": null,
   "id": "8e6019d3",
   "metadata": {},
   "outputs": [],
   "source": []
  }
 ],
 "metadata": {
  "kernelspec": {
   "display_name": "Python 3 (ipykernel)",
   "language": "python",
   "name": "python3"
  },
  "language_info": {
   "codemirror_mode": {
    "name": "ipython",
    "version": 3
   },
   "file_extension": ".py",
   "mimetype": "text/x-python",
   "name": "python",
   "nbconvert_exporter": "python",
   "pygments_lexer": "ipython3",
   "version": "3.9.7"
  },
  "toc": {
   "base_numbering": 1,
   "nav_menu": {},
   "number_sections": true,
   "sideBar": true,
   "skip_h1_title": false,
   "title_cell": "Table of Contents",
   "title_sidebar": "Contents",
   "toc_cell": false,
   "toc_position": {},
   "toc_section_display": true,
   "toc_window_display": false
  }
 },
 "nbformat": 4,
 "nbformat_minor": 5
}
