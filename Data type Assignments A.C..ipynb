{
 "cells": [
  {
   "cell_type": "code",
   "execution_count": null,
   "id": "7a65ad36",
   "metadata": {},
   "outputs": [],
   "source": [
    "#String Assignment"
   ]
  },
  {
   "cell_type": "code",
   "execution_count": 1,
   "id": "1c4f1457",
   "metadata": {},
   "outputs": [
    {
     "name": "stdout",
     "output_type": "stream",
     "text": [
      "Print your name in lower case: alina\n",
      "Print your surname in lower case: churikova\n",
      "Alina Churikova\n"
     ]
    }
   ],
   "source": [
    "user_name = input(\"Print your name in lower case: \")\n",
    "user_surname = input(\"Print your surname in lower case: \")\n",
    "full_name = user_name + \" \" + user_surname\n",
    "print(full_name.title())"
   ]
  },
  {
   "cell_type": "code",
   "execution_count": 2,
   "id": "242fa47d",
   "metadata": {},
   "outputs": [
    {
     "name": "stdout",
     "output_type": "stream",
     "text": [
      "Print the first line of a poem Raven by Edgar Allen Poe: Deep into that darkness peering,\n"
     ]
    },
    {
     "data": {
      "text/plain": [
       "32"
      ]
     },
     "execution_count": 2,
     "metadata": {},
     "output_type": "execute_result"
    }
   ],
   "source": [
    "poem = input(\"Print the first line of a poem Raven by Edgar Allen Poe: \")\n",
    "poem\n",
    "len(poem)"
   ]
  },
  {
   "cell_type": "code",
   "execution_count": 3,
   "id": "7b21531e",
   "metadata": {},
   "outputs": [
    {
     "name": "stdout",
     "output_type": "stream",
     "text": [
      "Type a starting number for slicing: 5\n",
      "Type an ending number for slicing: 9\n"
     ]
    },
    {
     "data": {
      "text/plain": [
       "'into'"
      ]
     },
     "execution_count": 3,
     "metadata": {},
     "output_type": "execute_result"
    }
   ],
   "source": [
    "start = input(\"Type a starting number for slicing: \")\n",
    "end = input(\"Type an ending number for slicing: \")\n",
    "poem[int(start):int(end)]"
   ]
  },
  {
   "cell_type": "code",
   "execution_count": 7,
   "id": "89f1eaae",
   "metadata": {},
   "outputs": [
    {
     "name": "stdout",
     "output_type": "stream",
     "text": [
      "Hello\n",
      "We remove white spaces for Python to properly process the text.\n"
     ]
    }
   ],
   "source": [
    "str = \" Hello \"\n",
    "print(str.strip())\n",
    "print('We remove white spaces for Python to properly process the text.')"
   ]
  },
  {
   "cell_type": "code",
   "execution_count": null,
   "id": "aeae380a",
   "metadata": {},
   "outputs": [],
   "source": [
    "#Variable Assignment"
   ]
  },
  {
   "cell_type": "code",
   "execution_count": 9,
   "id": "da4de01b",
   "metadata": {},
   "outputs": [
    {
     "data": {
      "text/plain": [
       "False"
      ]
     },
     "execution_count": 9,
     "metadata": {},
     "output_type": "execute_result"
    }
   ],
   "source": [
    "x=1\n",
    "y='1'\n",
    "x==y"
   ]
  },
  {
   "cell_type": "code",
   "execution_count": 10,
   "id": "c5fe2fcd",
   "metadata": {},
   "outputs": [
    {
     "data": {
      "text/plain": [
       "int"
      ]
     },
     "execution_count": 10,
     "metadata": {},
     "output_type": "execute_result"
    }
   ],
   "source": [
    "type(x)"
   ]
  },
  {
   "cell_type": "code",
   "execution_count": 11,
   "id": "a64edd71",
   "metadata": {},
   "outputs": [
    {
     "data": {
      "text/plain": [
       "str"
      ]
     },
     "execution_count": 11,
     "metadata": {},
     "output_type": "execute_result"
    }
   ],
   "source": [
    "type(y)"
   ]
  },
  {
   "cell_type": "code",
   "execution_count": 12,
   "id": "aead20a8",
   "metadata": {},
   "outputs": [],
   "source": [
    "# Bitcoin"
   ]
  },
  {
   "cell_type": "code",
   "execution_count": 42,
   "id": "b025ec16",
   "metadata": {},
   "outputs": [
    {
     "name": "stdout",
     "output_type": "stream",
     "text": [
      "1840.0\n"
     ]
    }
   ],
   "source": [
    "capital = 1000\n",
    "daily_growth = 0.12\n",
    "days = 7\n",
    "end_money = capital + (capital * daily_growth * days)\n",
    "print(end_money)"
   ]
  },
  {
   "cell_type": "code",
   "execution_count": 43,
   "id": "d0c5f030",
   "metadata": {},
   "outputs": [
    {
     "name": "stdout",
     "output_type": "stream",
     "text": [
      "When we buy bitcoin with 1000 USD at the beginning of the week,\n",
      " we would earn 1210.68 USD at the end of the week, \n",
      " with an average gain of 12%\n"
     ]
    }
   ],
   "source": [
    "print('When we buy bitcoin with {} USD at the beginning of the week,\\n we would earn {} USD at the end of the week, \\n with an average gain of {}%'.format(capital, 1210.68, 12))"
   ]
  },
  {
   "cell_type": "code",
   "execution_count": 55,
   "id": "d820bae9",
   "metadata": {},
   "outputs": [
    {
     "name": "stdout",
     "output_type": "stream",
     "text": [
      "Print the temerature in Fahrenheit : 56\n",
      "13.333333333333334\n",
      "13.33\n"
     ]
    }
   ],
   "source": [
    "#3 Temperature\n",
    "F = int(input('Print the temerature in Fahrenheit : '))\n",
    "C = (5/9) * (F - 32)\n",
    "print(C)\n",
    "temp = round(C, 2)\n",
    "print(temp)"
   ]
  },
  {
   "cell_type": "code",
   "execution_count": 67,
   "id": "3763c6a1",
   "metadata": {},
   "outputs": [
    {
     "name": "stdout",
     "output_type": "stream",
     "text": [
      "Enter your number 56\n",
      "11\n"
     ]
    }
   ],
   "source": [
    "#4sum of the digits in the integer\n",
    "\n",
    "print(sum(list(map(int,input(\"Enter your number \")))))"
   ]
  },
  {
   "cell_type": "code",
   "execution_count": 69,
   "id": "41f44984",
   "metadata": {},
   "outputs": [
    {
     "name": "stdout",
     "output_type": "stream",
     "text": [
      "a: 6\n",
      "b: 8\n",
      "The length of the hypotenuse is: 10.0\n"
     ]
    }
   ],
   "source": [
    "#the hypotenuse of a right angled triangle\n",
    "\n",
    "from math import sqrt\n",
    "a = float(input(\"a: \"))\n",
    "b = float(input(\"b: \"))\n",
    "c = sqrt(a**2 + b**2)\n",
    "print(\"The length of the hypotenuse is:\", c )"
   ]
  },
  {
   "cell_type": "code",
   "execution_count": 70,
   "id": "dc1081db",
   "metadata": {},
   "outputs": [
    {
     "name": "stdout",
     "output_type": "stream",
     "text": [
      "My name is: Alina\n",
      "My surname is: Churikova\n",
      "Alina Churikova\n"
     ]
    }
   ],
   "source": [
    "#Python Basics Assignment\n",
    "#print your name\n",
    "\n",
    "name = input('My name is: ')\n",
    "surname = input('My surname is: ')\n",
    "print(name + \" \"+ surname)"
   ]
  },
  {
   "cell_type": "code",
   "execution_count": 71,
   "id": "3ca47d3b",
   "metadata": {},
   "outputs": [
    {
     "name": "stdout",
     "output_type": "stream",
     "text": [
      "Alina \n",
      " Churikova\n"
     ]
    }
   ],
   "source": [
    "print('Alina \\n Churikova')"
   ]
  },
  {
   "cell_type": "code",
   "execution_count": 75,
   "id": "89c994b3",
   "metadata": {},
   "outputs": [
    {
     "name": "stdout",
     "output_type": "stream",
     "text": [
      "I don't want to be an \"artist\". I want to be a \"Data Scientist\".\n"
     ]
    }
   ],
   "source": [
    "print('''I don't want to be an \\\"artist\\\". I want to be a \\\"Data Scientist\\\".''')"
   ]
  },
  {
   "cell_type": "code",
   "execution_count": null,
   "id": "036646ef",
   "metadata": {},
   "outputs": [],
   "source": []
  },
  {
   "cell_type": "code",
   "execution_count": null,
   "id": "f48c535e",
   "metadata": {},
   "outputs": [],
   "source": []
  },
  {
   "cell_type": "code",
   "execution_count": null,
   "id": "bc0246ed",
   "metadata": {},
   "outputs": [],
   "source": []
  }
 ],
 "metadata": {
  "kernelspec": {
   "display_name": "Python 3 (ipykernel)",
   "language": "python",
   "name": "python3"
  },
  "language_info": {
   "codemirror_mode": {
    "name": "ipython",
    "version": 3
   },
   "file_extension": ".py",
   "mimetype": "text/x-python",
   "name": "python",
   "nbconvert_exporter": "python",
   "pygments_lexer": "ipython3",
   "version": "3.9.7"
  },
  "toc": {
   "base_numbering": 1,
   "nav_menu": {},
   "number_sections": true,
   "sideBar": true,
   "skip_h1_title": false,
   "title_cell": "Table of Contents",
   "title_sidebar": "Contents",
   "toc_cell": false,
   "toc_position": {},
   "toc_section_display": true,
   "toc_window_display": false
  }
 },
 "nbformat": 4,
 "nbformat_minor": 5
}
