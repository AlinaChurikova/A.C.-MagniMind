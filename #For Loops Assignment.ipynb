{
 "cells": [
  {
   "cell_type": "markdown",
   "id": "4b60d265",
   "metadata": {},
   "source": [
    "1. Do the following to create a program that simulates how websites ensure that everyone has a unique username."
   ]
  },
  {
   "cell_type": "code",
   "execution_count": 4,
   "id": "2972e0d0",
   "metadata": {},
   "outputs": [],
   "source": [
    "#Make a list of five or more usernames called current_users.\n",
    "\n",
    "current_users = ['John', 'Elena', 'George', 'Karen', 'Anna']"
   ]
  },
  {
   "cell_type": "code",
   "execution_count": 6,
   "id": "9ad41a0c",
   "metadata": {},
   "outputs": [],
   "source": [
    "#Make another list of five usernames called new_users. \n",
    "#Make sure one or two of the new usernames are also in the current_users list.\n",
    "\n",
    "new_users = ['John', 'Elena', 'Peter', 'Albert', 'Giannis'] "
   ]
  },
  {
   "cell_type": "markdown",
   "id": "0fc40eed",
   "metadata": {},
   "source": [
    " Loop through the new_users list to see if each new username has already been used. If it has, print a message that the person will need to enter a new username. If a username has not been used, print a message saying that the username is available."
   ]
  },
  {
   "cell_type": "code",
   "execution_count": 32,
   "id": "6c289f65",
   "metadata": {},
   "outputs": [
    {
     "name": "stdout",
     "output_type": "stream",
     "text": [
      "Sorry, the name John is not available. Enter another name.\n",
      "Sorry, the name Elena is not available. Enter another name.\n",
      "Username Peter is availabe.\n",
      "Username Albert is availabe.\n",
      "Username Giannis is availabe.\n"
     ]
    }
   ],
   "source": [
    "current_user_lower = [user.lower() for user in current_users]\n",
    "\n",
    "for new_user in new_users:\n",
    "    if new_user.lower() in current_user_lower:\n",
    "        print(\"Sorry, the name \" + new_user + \" is not available. Enter another name.\")\n",
    "    else:\n",
    "        print(\"Username \" + new_user + \" is availabe.\")"
   ]
  },
  {
   "cell_type": "markdown",
   "id": "f689c7c5",
   "metadata": {},
   "source": [
    "2. Color probability"
   ]
  },
  {
   "cell_type": "code",
   "execution_count": 46,
   "id": "d0202e71",
   "metadata": {},
   "outputs": [
    {
     "name": "stdout",
     "output_type": "stream",
     "text": [
      "The probability is 0.40\n"
     ]
    },
    {
     "data": {
      "text/plain": [
       "str"
      ]
     },
     "execution_count": 46,
     "metadata": {},
     "output_type": "execute_result"
    }
   ],
   "source": [
    "def color_probability(color,texture):\n",
    "    if color==\"red\" and texture ==\"smooth\": \n",
    "        return \"The probability is {:.2f}\".format(1/10)\n",
    "    if color==\"red\" and texture==\"bumpy\":\n",
    "        return \"The probability is {:.2f}\".format(4/10)\n",
    "    if color==\"yellow\" and texture==\"bumpy\":\n",
    "        return \"The probability is {:.2f}\".format(2/10)\n",
    "    if color==\"yellow\" and texture==\"smooth\":\n",
    "        return \"The probability is {:.2f}\".format(1/10)\n",
    "    if color==\"green\" and texture==\"bumpy\":\n",
    "        return \"The probability is {:.2f}\".format(1/10)\n",
    "    if color==\"green\" and texture==\"smooth\":\n",
    "        return \"The probability is {:.2f}\".format(1/10)\n",
    "print(color_probability(\"red\", \"bumpy\"))\n",
    "type(color_probability(\"red\",\"bumpy\"))"
   ]
  },
  {
   "cell_type": "markdown",
   "id": "b04ee09c",
   "metadata": {},
   "source": [
    "3. Write an if-elif-else chain that determines a person’s stage of life."
   ]
  },
  {
   "cell_type": "code",
   "execution_count": 91,
   "id": "efef30b7",
   "metadata": {},
   "outputs": [
    {
     "name": "stdout",
     "output_type": "stream",
     "text": [
      "Please, enter the age: 5\n",
      "The person is a kid\n"
     ]
    }
   ],
   "source": [
    "age = int(input('Please, enter the age: '))\n",
    "if age > 0:\n",
    "    if age < 2:\n",
    "        print('The person is a baby')\n",
    "    elif age < 4:\n",
    "        print('The person is a toddler')\n",
    "    elif age < 13:\n",
    "        print('The person is a kid')\n",
    "    elif age < 20:\n",
    "        print('The person is a teenager')\n",
    "    elif age < 65:\n",
    "        print('The person is a adult')\n",
    "    elif age >= 65:\n",
    "        print('The person is elder')\n",
    "else:\n",
    "        print(\"Please enter the age greater than 0\")"
   ]
  },
  {
   "cell_type": "markdown",
   "id": "dd9d0ea3",
   "metadata": {},
   "source": [
    "4. process_data"
   ]
  },
  {
   "cell_type": "code",
   "execution_count": 110,
   "id": "ebaa5626",
   "metadata": {},
   "outputs": [
    {
     "name": "stdout",
     "output_type": "stream",
     "text": [
      "3\n"
     ]
    }
   ],
   "source": [
    "data = [[2, 5], [3, 4], [8, 7]]\n",
    "def process_data(data):\n",
    "    x = 1\n",
    "    for i in data:\n",
    "        x *= i[0]-i[1]\n",
    "    return x\n",
    "result = process_data(data)\n",
    "print(result)"
   ]
  },
  {
   "cell_type": "markdown",
   "id": "ce87577c",
   "metadata": {},
   "source": [
    "5. user_contacts"
   ]
  },
  {
   "cell_type": "code",
   "execution_count": 166,
   "id": "6704da18",
   "metadata": {},
   "outputs": [
    {
     "name": "stdout",
     "output_type": "stream",
     "text": [
      "[['Grae Drake', 98110], ['Bethany Kok'], ['Alex Nussbacher', 94101], ['Darrell Silver', 11201]]\n",
      "{'Grae Drake': 98110, 'Bethany Kok': None, 'Alex Nussbacher': 94101, 'Darrell Silver': 11201}\n"
     ]
    }
   ],
   "source": [
    "def user_contacts(lst):\n",
    "    dict_user={}\n",
    "\n",
    "    for i in range(0,len(lst)):\n",
    "        try:\n",
    "            dict_user.update({lst[i][0]:lst[i][1]})\n",
    "        \n",
    "        except IndexError:\n",
    "            dict_user.update({lst[i][0]:None})   \n",
    "           \n",
    "    return dict_user\n",
    "\n",
    "lst=[[\"Grae Drake\", 98110], [\"Bethany Kok\"], [\"Alex Nussbacher\", 94101], [\"Darrell Silver\", 11201]]\n",
    "print(list_user)\n",
    "print(user_contacts(lst))"
   ]
  }
 ],
 "metadata": {
  "kernelspec": {
   "display_name": "Python 3 (ipykernel)",
   "language": "python",
   "name": "python3"
  },
  "language_info": {
   "codemirror_mode": {
    "name": "ipython",
    "version": 3
   },
   "file_extension": ".py",
   "mimetype": "text/x-python",
   "name": "python",
   "nbconvert_exporter": "python",
   "pygments_lexer": "ipython3",
   "version": "3.9.7"
  },
  "toc": {
   "base_numbering": 1,
   "nav_menu": {},
   "number_sections": true,
   "sideBar": true,
   "skip_h1_title": false,
   "title_cell": "Table of Contents",
   "title_sidebar": "Contents",
   "toc_cell": false,
   "toc_position": {},
   "toc_section_display": true,
   "toc_window_display": false
  }
 },
 "nbformat": 4,
 "nbformat_minor": 5
}
