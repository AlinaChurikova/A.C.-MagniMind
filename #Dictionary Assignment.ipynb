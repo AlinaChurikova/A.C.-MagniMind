{
 "cells": [
  {
   "cell_type": "code",
   "execution_count": 6,
   "id": "612ab9f3",
   "metadata": {},
   "outputs": [
    {
     "name": "stdout",
     "output_type": "stream",
     "text": [
      "{'1': 'Monday', '2': 'Tuesday', '3': 'Wednesday', '4': 'Thursday', '5': 'Friday', '6': 'Saturday', '7': 'Sunday'}\n"
     ]
    }
   ],
   "source": [
    "#Create a dictionary with 7 days.\n",
    "\n",
    "weekdays = {\"1\":\"Monday\", \"2\":\"Tuesday\", \"3\":\"Wednesday\", \"4\":\"Thursday\", \"5\":\"Friday\", \"6\":\"Saturday\", \"7\":\"Sunday\"}\n",
    "print(weekdays)"
   ]
  },
  {
   "cell_type": "code",
   "execution_count": 30,
   "id": "4b6a3a2c",
   "metadata": {},
   "outputs": [
    {
     "name": "stdout",
     "output_type": "stream",
     "text": [
      "{'1': 'Monday', '2': 'Tuesday', '3': 'Wednesday', '4': 'Thursday', '5': 'Friday', '6': 'Saturday', '7': 'Sunday'}\n",
      "Print number of a day1\n",
      "Monday\n",
      "Print number of another day2\n",
      "Tuesday\n",
      "{'3': 'Wednesday', '4': 'Thursday', '5': 'Friday', '6': 'Saturday', '7': 'Sunday'}\n"
     ]
    }
   ],
   "source": [
    "#Ask the user to choose 2 different days by listing the (e.g. \"12\" for Monday and Tuesday).\n",
    "#Delete the user-selected days from the dictionary and print the remaining 5 days on the screen.\n",
    "\n",
    "weekdays = {\"1\":\"Monday\", \"2\":\"Tuesday\", \"3\":\"Wednesday\", \"4\":\"Thursday\", \"5\":\"Friday\", \"6\":\"Saturday\", \"7\":\"Sunday\"}\n",
    "print(weekdays)\n",
    "day1 = weekdays.pop((input('Print number of a day')),'Key not found')\n",
    "print(day1)\n",
    "day2 = weekdays.pop((input('Print number of another day')),'Key not found')\n",
    "print(day2)\n",
    "print(weekdays)"
   ]
  },
  {
   "cell_type": "code",
   "execution_count": null,
   "id": "6d46d586",
   "metadata": {},
   "outputs": [],
   "source": []
  },
  {
   "cell_type": "code",
   "execution_count": 36,
   "id": "09bc74a4",
   "metadata": {},
   "outputs": [
    {
     "data": {
      "text/plain": [
       "{'Monday': 0,\n",
       " 'Tuesday': 1,\n",
       " 'Wednesday': 2,\n",
       " 'Thursday': 3,\n",
       " 'Friday': 4,\n",
       " 'Saturday': 5,\n",
       " 'Sunday': 6}"
      ]
     },
     "execution_count": 36,
     "metadata": {},
     "output_type": "execute_result"
    }
   ],
   "source": [
    "#2- Create a dictionary with the following personnel. Use names as keys.\n",
    "\n",
    "import calendar\n",
    "d=dict(zip(calendar.day_name,range(7)))\n",
    "d"
   ]
  },
  {
   "cell_type": "code",
   "execution_count": null,
   "id": "b4bfcd1f",
   "metadata": {},
   "outputs": [],
   "source": []
  },
  {
   "cell_type": "code",
   "execution_count": 51,
   "id": "23c91be4",
   "metadata": {},
   "outputs": [
    {
     "name": "stdout",
     "output_type": "stream",
     "text": [
      "{'Michael': {'Karen': '12female', 'Greg': '7male'}, 'Linda': {'Susan': '6female'}}\n"
     ]
    }
   ],
   "source": [
    "#3 \n",
    "\n",
    "#Add child information to Michael and Linda\n",
    "\n",
    "kids = {'Michael':{'Karen': '12' 'female','Greg':'7''male'}, 'Linda': {'Susan': '6' 'female'}}\n",
    "print(kids)"
   ]
  },
  {
   "cell_type": "code",
   "execution_count": 52,
   "id": "ce7dc63b",
   "metadata": {},
   "outputs": [
    {
     "name": "stdout",
     "output_type": "stream",
     "text": [
      "{'Karen': '12female', 'Greg': '7male'}\n"
     ]
    }
   ],
   "source": [
    "#4 Print the names of Michael's children in a list.\n",
    "print(kids['Michael'])"
   ]
  },
  {
   "cell_type": "code",
   "execution_count": null,
   "id": "b348949f",
   "metadata": {},
   "outputs": [],
   "source": []
  },
  {
   "cell_type": "code",
   "execution_count": 56,
   "id": "af457b80",
   "metadata": {},
   "outputs": [
    {
     "name": "stdout",
     "output_type": "stream",
     "text": [
      "{'earbuds': 20, 'microphones': 72, 'speakers': 14, 'headsets': 59, 'webcams': 37}\n"
     ]
    }
   ],
   "source": [
    "#5\n",
    "\n",
    "stock = {'earbuds': 20, 'microphones':72, 'speakers': 14, 'headsets': 59, 'webcams': 37}\n",
    "print(stock)"
   ]
  },
  {
   "cell_type": "code",
   "execution_count": 62,
   "id": "6544c375",
   "metadata": {},
   "outputs": [],
   "source": [
    "def fillable(f_stock, f_merch, f_n):\n",
    "    if f_stock[f_merch] >= f_n:\n",
    "        return True\n",
    "    else:\n",
    "        return False"
   ]
  },
  {
   "cell_type": "code",
   "execution_count": 64,
   "id": "fa21203d",
   "metadata": {},
   "outputs": [
    {
     "name": "stdout",
     "output_type": "stream",
     "text": [
      "True\n"
     ]
    }
   ],
   "source": [
    "merch = 'earbuds'\n",
    "n = 15\n",
    "avail_stock = fillable(stock, merch, n)\n",
    "print(avail_stock)"
   ]
  }
 ],
 "metadata": {
  "kernelspec": {
   "display_name": "Python 3 (ipykernel)",
   "language": "python",
   "name": "python3"
  },
  "language_info": {
   "codemirror_mode": {
    "name": "ipython",
    "version": 3
   },
   "file_extension": ".py",
   "mimetype": "text/x-python",
   "name": "python",
   "nbconvert_exporter": "python",
   "pygments_lexer": "ipython3",
   "version": "3.9.7"
  },
  "toc": {
   "base_numbering": 1,
   "nav_menu": {},
   "number_sections": true,
   "sideBar": true,
   "skip_h1_title": false,
   "title_cell": "Table of Contents",
   "title_sidebar": "Contents",
   "toc_cell": false,
   "toc_position": {},
   "toc_section_display": true,
   "toc_window_display": false
  }
 },
 "nbformat": 4,
 "nbformat_minor": 5
}
