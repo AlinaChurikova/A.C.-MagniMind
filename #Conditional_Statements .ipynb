{
 "cells": [
  {
   "cell_type": "code",
   "execution_count": 2,
   "id": "ec7a75d8",
   "metadata": {},
   "outputs": [
    {
     "name": "stdout",
     "output_type": "stream",
     "text": [
      "Enter a number between 10 and 20 inclusive: 4\n",
      "Incorrect answer\n"
     ]
    }
   ],
   "source": [
    "\n",
    "#1- Ask the user to enter a number between 10 and 20 (inclusive).\n",
    "\n",
    "y = int(input(\"Enter a number between 10 and 20 inclusive: \"))\n",
    "if  (10 <= y <= 20):\n",
    "    print('Thank you')\n",
    "else :\n",
    "    print('Incorrect answer')"
   ]
  },
  {
   "cell_type": "code",
   "execution_count": 8,
   "id": "07e1ec45",
   "metadata": {},
   "outputs": [
    {
     "name": "stdout",
     "output_type": "stream",
     "text": [
      "Type a letter of the alphabet: f\n",
      "f is a consonant.\n"
     ]
    }
   ],
   "source": [
    "#2 In this exercise, you will create a program that reads a letter of the alphabet from the user. \n",
    "\n",
    "\n",
    "l = input(\"Type a letter of the alphabet: \")\n",
    "if l in ('a', 'e', 'i', 'o', 'u'):\n",
    "    print(\"%s is a vowel.\" % l)\n",
    "elif l == 'y':\n",
    "    print(\"y is sometimes a vowel and sometimes a consonant.\")\n",
    "else:\n",
    "    print(\"%s is a consonant.\" % l)"
   ]
  },
  {
   "cell_type": "code",
   "execution_count": null,
   "id": "8c64d33b",
   "metadata": {},
   "outputs": [],
   "source": []
  },
  {
   "cell_type": "code",
   "execution_count": null,
   "id": "a8ae40cf",
   "metadata": {},
   "outputs": [],
   "source": []
  }
 ],
 "metadata": {
  "kernelspec": {
   "display_name": "Python 3 (ipykernel)",
   "language": "python",
   "name": "python3"
  },
  "language_info": {
   "codemirror_mode": {
    "name": "ipython",
    "version": 3
   },
   "file_extension": ".py",
   "mimetype": "text/x-python",
   "name": "python",
   "nbconvert_exporter": "python",
   "pygments_lexer": "ipython3",
   "version": "3.9.7"
  },
  "toc": {
   "base_numbering": 1,
   "nav_menu": {},
   "number_sections": true,
   "sideBar": true,
   "skip_h1_title": false,
   "title_cell": "Table of Contents",
   "title_sidebar": "Contents",
   "toc_cell": false,
   "toc_position": {},
   "toc_section_display": true,
   "toc_window_display": false
  }
 },
 "nbformat": 4,
 "nbformat_minor": 5
}
