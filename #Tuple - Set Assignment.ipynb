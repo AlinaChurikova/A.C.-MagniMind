{
 "cells": [
  {
   "cell_type": "code",
   "execution_count": 4,
   "id": "d68029d1",
   "metadata": {},
   "outputs": [],
   "source": [
    "#1- Create a tuple named \"week\" containing weekdays.\n",
    "\n",
    "from datetime import datetime\n",
    "weekDays = (\"Monday\",\"Tuesday\",\"Wednesday\",\"Thursday\",\"Friday\",\"Saturday\",\"Sunday\")\n"
   ]
  },
  {
   "cell_type": "code",
   "execution_count": 9,
   "id": "475201a6",
   "metadata": {},
   "outputs": [],
   "source": [
    "#2  Create a set named \"fruits\" containing followings: apple, mango, orange\n",
    "\n",
    "fruits = set(['apple', 'mango', 'orange'])"
   ]
  },
  {
   "cell_type": "code",
   "execution_count": 14,
   "id": "57bdd017",
   "metadata": {},
   "outputs": [],
   "source": [
    "# 3- Create a new set named \"new_fruits\" containing followings: cherry, peach, apple, mango\n",
    "\n",
    "new_fruits = set(['cherry', 'peach', 'apple', 'mango'])"
   ]
  },
  {
   "cell_type": "code",
   "execution_count": 16,
   "id": "dd371886",
   "metadata": {},
   "outputs": [
    {
     "name": "stdout",
     "output_type": "stream",
     "text": [
      "{'peach', 'cherry'}\n"
     ]
    }
   ],
   "source": [
    "#4- Find the fruits which are in new_fruits but not in fruits.\n",
    "\n",
    "print(new_fruits.difference(fruits))"
   ]
  },
  {
   "cell_type": "code",
   "execution_count": 17,
   "id": "f5afe212",
   "metadata": {},
   "outputs": [
    {
     "name": "stdout",
     "output_type": "stream",
     "text": [
      "{'apple', 'mango'}\n"
     ]
    }
   ],
   "source": [
    "# 5- Find the fruits which are in both new_fruits and fruits.\n",
    "\n",
    "print(fruits.intersection(new_fruits))"
   ]
  },
  {
   "cell_type": "code",
   "execution_count": null,
   "id": "96b8dc9c",
   "metadata": {},
   "outputs": [],
   "source": []
  },
  {
   "cell_type": "code",
   "execution_count": null,
   "id": "c9c617e0",
   "metadata": {},
   "outputs": [],
   "source": []
  }
 ],
 "metadata": {
  "kernelspec": {
   "display_name": "Python 3 (ipykernel)",
   "language": "python",
   "name": "python3"
  },
  "language_info": {
   "codemirror_mode": {
    "name": "ipython",
    "version": 3
   },
   "file_extension": ".py",
   "mimetype": "text/x-python",
   "name": "python",
   "nbconvert_exporter": "python",
   "pygments_lexer": "ipython3",
   "version": "3.9.7"
  },
  "toc": {
   "base_numbering": 1,
   "nav_menu": {},
   "number_sections": true,
   "sideBar": true,
   "skip_h1_title": false,
   "title_cell": "Table of Contents",
   "title_sidebar": "Contents",
   "toc_cell": false,
   "toc_position": {},
   "toc_section_display": true,
   "toc_window_display": false
  }
 },
 "nbformat": 4,
 "nbformat_minor": 5
}
